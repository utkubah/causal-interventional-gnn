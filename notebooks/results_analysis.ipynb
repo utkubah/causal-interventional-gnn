{
 "cells": [
  {
   "cell_type": "markdown",
   "id": "e30b6139",
   "metadata": {},
   "source": [
    "# Notebook 3: Analysis of Experimental Results\n",
    "\n",
    "### Goal\n",
    "This notebook is for analyzing the outputs of our experiments. We will load the saved model checkpoints and results files from the `outputs/` directory to generate the key tables and figures for the thesis.\n",
    "\n",
    "### Steps\n",
    "1.  **Load Results:** Load the `.csv` files containing the performance metrics for all experimental runs (e.g., our GNN-NCM, a baseline GCN).\n",
    "2.  **Overall Performance Comparison:** Create a table comparing the overall predictive accuracy (e.g., RMSE, MAE) of all models on the full test set.\n",
    "3.  **Robustness Under Intervention (The Key Figure):**\n",
    "    *   Define \"stable\" and \"shock\" periods based on our list of historical events.\n",
    "    *   Calculate the performance of each model separately for these two periods.\n",
    "    *   Create a bar chart showing the **performance degradation** (e.g., percentage increase in RMSE) for each model during the shock period. This is the primary evidence for our thesis statement.\n",
    "4.  **Case Study: A Single Intervention:**\n",
    "    *   Load our trained `GNN-NCM`.\n",
    "    *   Select a significant historical event (e.g., a major interest rate hike).\n",
    "    *   Perform a `do_intervention` on the corresponding macro node.\n",
    "    *   Analyze and interpret the predicted downstream effects on different sectors, comparing them to economic theory.\n",
    "5.  **Conclusion:** Summarize the findings and articulate the final conclusions for the thesis."
   ]
  }
 ],
 "metadata": {
  "language_info": {
   "name": "python"
  }
 },
 "nbformat": 4,
 "nbformat_minor": 5
}
