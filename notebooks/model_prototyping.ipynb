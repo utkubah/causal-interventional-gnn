{
 "cells": [
  {
   "cell_type": "markdown",
   "id": "caea6a73",
   "metadata": {},
   "source": [
    "# Prototyping the GNN Neural Causal Model\n",
    "\n",
    "The primary objective of this notebook is to develop the core GNN_NCM class. We will take direct inspiration from CXGNN by Berham and then implement our own version using PyTorch Geometric"
   ]
  },
  {
   "cell_type": "code",
   "execution_count": 176,
   "id": "c76fcf4d",
   "metadata": {},
   "outputs": [],
   "source": [
    "import os\n",
    "import torch\n",
    "import torch.nn as nn\n",
    "import torch.nn.functional as F\n",
    "import torch.optim as optim\n",
    "import numpy as np\n",
    "import networkx as nx\n",
    "import matplotlib.pyplot as plt\n",
    "from sklearn.manifold import TSNE\n",
    "from pathlib import Path\n",
    "\n",
    "# PyTorch Geometric imports\n",
    "from torch_geometric.data import Data\n",
    "from torch_geometric.nn import GCNConv\n",
    "from torch_geometric.nn import MessagePassing\n",
    "from torch_geometric.utils import to_networkx\n",
    "\n",
    "# Set seed for reproducibility\n",
    "torch.manual_seed(42)\n",
    "np.random.seed(42)"
   ]
  },
  {
   "cell_type": "markdown",
   "id": "ab5fe5a5",
   "metadata": {},
   "source": [
    "### Building the GNN Neural Causal Model (GNN_NCM)\n",
    "\n",
    "Here, we define our core model class. We will include detailed comments explaining how each part corresponds to the concepts in the reference code and the broader SCM framework. The gap between SCMs and GNNs lies mainly in:\n",
    "\n",
    "1- Directionality: Causality is directed (A -> B is not the same as B -> A), but standard layers like GCNConv are inherently undirected (or symmetric).\n",
    "\n",
    "2- Modularity vs. Parameter Sharing: An SCM has a unique causal mechanism (f_ij) for each parent-child relationship, while a GNN shares its message-passing weights (ψ) across all edges for scalability.\n",
    "\n",
    "\n",
    "Therefore to improve causal fidelity we need to do build a GNN layer that is both directional and supports per-edge causal mechanisms, directly addressing the trade-off between common GNNs and SCMs. \n",
    "\n",
    "We start by implementing a simple directional message-passing layer\n"
   ]
  },
  {
   "cell_type": "code",
   "execution_count": 177,
   "id": "2d29c930",
   "metadata": {},
   "outputs": [],
   "source": [
    "class DirectedGNNLayer(MessagePassing):\n",
    "    \"\"\"\n",
    "    A minimal directed message passing layer where information flows from\n",
    "    source nodes (parents) to target nodes (children).\n",
    "    \n",
    "    It uses a shared MLP for the message function (ψ) and another for the update function (φ).\n",
    "    \"\"\"\n",
    "    def __init__(self, in_dim, hidden_dim, out_dim):\n",
    "        # flow='source_to_target' is the key argument that enforces directionality.\n",
    "\n",
    "        super().__init__(aggr='add', flow='source_to_target')\n",
    "\n",
    "        # ψ (psi): The message function. \n",
    "        # It computes a message based on the parent's features.\n",
    "        self.msg_mlp = nn.Sequential(\n",
    "            nn.Linear(in_dim, hidden_dim), \n",
    "            nn.ReLU(),\n",
    "            nn.Linear(hidden_dim, out_dim)\n",
    "        )\n",
    "        \n",
    "        # φ (phi): The update function. \n",
    "        # It updates a node's representation by combining its original features (x_i) with the aggregated messages from all its parents.\n",
    "        self.update_mlp = nn.Sequential(\n",
    "            nn.Linear(in_dim + out_dim, hidden_dim), # Takes concatenated [child, aggregated_messages]\n",
    "            nn.ReLU(),\n",
    "            nn.Linear(hidden_dim, out_dim)\n",
    "        )\n",
    "\n",
    "    def message(self, x_j, x_i):\n",
    "        \"\"\"\n",
    "        Defines the message from a source node j (parent) to a target node i (child).\n",
    "        x_j is the parent's feature tensor, x_i is the child's.\n",
    "        \"\"\"\n",
    "        return self.msg_mlp(x_j)\n",
    "\n",
    "    def forward(self, x, edge_index):\n",
    "        \"\"\" The main propagation method. \"\"\"\n",
    "        # special to MessagePassing, self.propagate will call message() for each edge and aggregate() for each node.\n",
    "        aggregated_messages = self.propagate(edge_index, x=x)\n",
    "        \n",
    "        # Combine the node's original state with the messages from its parents.\n",
    "        updated_embedding = self.update_mlp(torch.cat([x, aggregated_messages], dim=-1))\n",
    "        return updated_embedding"
   ]
  },
  {
   "cell_type": "markdown",
   "id": "005a4eed",
   "metadata": {},
   "source": [
    "SCM's structural equations `x_i := f(pa(x_i), U_i)` can have a unique function `f` for each distinct causal relationship. A standard GNN uses one `msg_mlp` for all edges.\n",
    "\n",
    "We will create a GNN layer that can operate in two modes:\n",
    "1.  **`'shared'`**: Behaves like a normal GNN (efficient but less causally faithful).\n",
    "2.  **`'per_edge'`**: Instantiates a unique MLP for every single edge in the graph, (less scalable and requires more training data but causally faithful to SCMs and NCMs)."
   ]
  },
  {
   "cell_type": "code",
   "execution_count": 178,
   "id": "7d31aff8",
   "metadata": {},
   "outputs": [],
   "source": [
    "class EdgeWiseGNNLayer(MessagePassing):\n",
    "    \"\"\"\n",
    "    A GNN layer that resolves the SCM modularity vs. GNN parameter sharing trade-off.\n",
    "    \n",
    "    In 'per_edge' mode, it instantiates a unique MLP for each edge, allowing it\n",
    "    to learn distinct causal mechanisms for each parent-child relationship.\n",
    "    \"\"\"\n",
    "    def __init__(self, in_dim, hidden_dim, out_dim, num_edges, mode='per_edge'):\n",
    "        super().__init__(aggr='add', flow='source_to_target')\n",
    "        \n",
    "        self.mode = mode\n",
    "        self.num_edges = num_edges\n",
    "        self.out_dim = out_dim\n",
    "\n",
    "        if self.mode == 'per_edge':\n",
    "            # Create a list of MLPs, one for each edge. This is our f_ij.\n",
    "            # nn.ModuleList is crucial for PyTorch to recognize these as submodules.\n",
    "            self.edge_mlps = nn.ModuleList([\n",
    "                nn.Sequential(nn.Linear(in_dim, hidden_dim),nn.ReLU(),nn.Linear(hidden_dim, out_dim)) for i in range(num_edges)\n",
    "            ])\n",
    "        elif self.mode == 'shared': \n",
    "            # In shared mode, we only have one MLP for all edges.\n",
    "            self.edge_mlps = nn.Sequential(nn.Linear(in_dim, hidden_dim),nn.ReLU(),nn.Linear(hidden_dim, out_dim))\n",
    "        else:\n",
    "            raise ValueError(\"Mode must be 'shared' or 'per_edge'\")\n",
    "        \n",
    "        \n",
    "        # The update function φ remains shared across all nodes.\n",
    "        self.update_mlp = nn.Sequential(\n",
    "            nn.Linear(in_dim + out_dim, hidden_dim),\n",
    "            nn.ReLU(),\n",
    "            nn.Linear(hidden_dim, out_dim)\n",
    "        )\n",
    "\n",
    "    def forward(self, x, edge_index, original_edge_ids=None):\n",
    "        \"\"\"\n",
    "        Executes one full message-passing step.\n",
    "\n",
    "        Args:\n",
    "            x (Tensor): The input node features.\n",
    "            edge_index (Tensor): The connectivity for this pass.\n",
    "            original_edge_ids (Tensor, optional): The original IDs of the edges in edge_index.\n",
    "                                                   If None, assumes a full graph pass.\n",
    "        \"\"\"\n",
    "        # If the original edge IDs aren't provided, we are doing a standard observational pass.\n",
    "        if original_edge_ids is None:\n",
    "            original_edge_ids = torch.arange(self.num_edges, device=x.device)\n",
    "        \n",
    "        # The propagate method will call message() and aggregate(), and its output\n",
    "        # is the aggregated messages for each node.\n",
    "        aggr_out = self.propagate(edge_index, x=x, original_edge_ids=original_edge_ids)\n",
    "        \n",
    "        # The update() method is then called to combine the aggregated messages with\n",
    "        # the original node features to produce the final node embeddings.\n",
    "        return self.update(aggr_out, x)\n",
    "\n",
    "\n",
    "    def message(self, x_j, original_edge_ids):\n",
    "        \"\"\"\n",
    "        Computes the message from parent (x_j) to child.\n",
    "        \n",
    "        Args:\n",
    "            x_j (Tensor): The feature tensor of the source nodes (parents) for each edge.\n",
    "            edge_ids (Tensor): A tensor containing the index of each edge, which we use\n",
    "                               to select the appropriate MLP.\n",
    "        \"\"\"\n",
    "        # This is a bit complex, but powerful. We can't apply all MLPs at once.\n",
    "        # We create a placeholder for the output messages.\n",
    "\n",
    "        output_messages = torch.zeros(x_j.size(0), self.out_dim, device=x_j.device)\n",
    "        if self.mode == 'per_edge':\n",
    "            for i in range(self.num_edges):\n",
    "                mask = (original_edge_ids == i)\n",
    "                if mask.any(): output_messages[mask] = self.edge_mlps[i](x_j[mask])\n",
    "            return output_messages\n",
    "        else: \n",
    "            return self.edge_mlps(x_j)\n",
    "\n",
    "    def update(self, aggr_out, x):\n",
    "        return self.update_mlp(torch.cat([x, aggr_out], dim=-1))\n"
   ]
  },
  {
   "cell_type": "markdown",
   "id": "18fe9027",
   "metadata": {},
   "source": [
    "## The GNN-NCM Architecture: A Principled SCM Analogue\n",
    "\n",
    "First, we define our core model architecture. This consists of two main components:\n",
    "\n",
    "- EdgeWiseGNNLayer: This is our novel GNN layer that resolves the critical trade-off between SCM modularity and GNN parameter sharing. In 'per_edge' mode, it instantiates a unique MLP for each causal link in the graph, directly modeling the SCM principle that each parent -> child relationship has its own distinct mechanism f_ij.\n",
    "- GNN_NCM: This is the main model class. It orchestrates the EdgeWiseGNNLayers and explicitly implements other SCM principles, namely the inclusion of exogenous noise U and the do_intervention method for simulating interventions."
   ]
  },
  {
   "cell_type": "code",
   "execution_count": 179,
   "id": "7ade3741",
   "metadata": {},
   "outputs": [],
   "source": [
    "class GNN_NCM(nn.Module):\n",
    "    \"\"\"\n",
    "    A Graph Neural Network - Neural Causal Model (GNN-NCM).\n",
    "    \n",
    "    This model is designed to mimic a Structural Causal Model (SCM). It learns\n",
    "    from observational data and can then predict outcomes under interventions\n",
    "    (do-operations) by performing \"graph surgery\".\n",
    "    \n",
    "    This version uses a causally-faithful `EdgeWiseGNNLayer`.\n",
    "    \"\"\"\n",
    "    def __init__(self, num_features, hidden_dim, out_dim, num_edges, noise_dim=4, gnn_mode=\"per_edge\"):\n",
    "        \n",
    "        \"\"\"\n",
    "        Initializes the GNN-NCM.\n",
    "\n",
    "        Args:\n",
    "            num_features (int): The number of input features for each node.\n",
    "            hidden_dim (int): The dimensionality of the hidden MLPs inside the GNN layers.\n",
    "            out_dim (int): The output dimensionality of the GNN layers.\n",
    "            num_edges (int): ### ANNOTATION ### The total number of edges in the full graph.\n",
    "                               This is a NEW and ESSENTIAL argument for EdgeWiseGNNLayer\n",
    "                               to know how many unique MLPs to create.\n",
    "            noise_dim (int): The dimensionality of the exogenous noise vector 'U'.\n",
    "            gnn_mode (str): Either 'per_edge' for max causal fidelity or 'shared' for efficiency.\n",
    "        \"\"\"\n",
    "\n",
    "\n",
    "        super().__init__()\n",
    "        self.noise_dim = noise_dim\n",
    "        self.num_edges = num_edges\n",
    "        \n",
    "        # In an SCM, x_i := f(pa(x_i), U_i). We model this by adding noise to the input.\n",
    "\n",
    "        input_dim = num_features + noise_dim\n",
    "        \n",
    "        # Instead of standard GCNConv we use our layer\n",
    "        self.conv1 = EdgeWiseGNNLayer(\n",
    "            in_dim=input_dim, \n",
    "            out_dim=hidden_dim, \n",
    "            hidden_dim=hidden_dim, # Internal MLP size\n",
    "            num_edges=num_edges, \n",
    "            mode=gnn_mode\n",
    "        )\n",
    "\n",
    "        self.conv2 = EdgeWiseGNNLayer(\n",
    "            in_dim=hidden_dim, # Input is the output of the previous layer\n",
    "            out_dim=out_dim,   # Final GNN output dimension is out_dim\n",
    "            hidden_dim=hidden_dim, \n",
    "            num_edges=num_edges, \n",
    "            mode=gnn_mode\n",
    "        )\n",
    "\n",
    "        \n",
    "        # A final linear layer to produce the output prediction (e.g., a node label probability).\n",
    "        self.out = nn.Linear(out_dim, 1)\n",
    "\n",
    "\n",
    "    def forward(self, x, edge_index):\n",
    "        \"\"\"\n",
    "        Performs the standard OBSERVATIONAL forward pass.\n",
    "        \n",
    "        This simulates the system where no intervention has been done.\n",
    "\n",
    "        Args:\n",
    "            x (Tensor): Node features of shape [num_nodes, num_features].\n",
    "            edge_index (Tensor): Graph connectivity in with shape [2, num_edges].\n",
    "            \n",
    "        Returns:\n",
    "            Tensor: The output prediction for each node (e.g., logits for classification).\n",
    "        \"\"\"\n",
    "\n",
    "        # 1. Inject Exogenous Noise (U) \n",
    "        noise = torch.randn(x.size(0), self.noise_dim, device=x.device)\n",
    "        x_with_noise = torch.cat([x, noise], dim=1)\n",
    "        \n",
    "        # 2. Message Passing\n",
    "        h = F.relu(self.conv1(x_with_noise, edge_index))\n",
    "        h = F.dropout(h, p=0.5, training=self.training)\n",
    "        h = F.relu(self.conv2(h, edge_index))\n",
    "        \n",
    "        # 3. Final Prediction\n",
    "        return self.out(h)\n",
    "\n",
    "    def do_intervention(self, x, edge_index, intervened_nodes, new_feature_values):\n",
    "        \"\"\"\n",
    "        Performs an INTERVENTIONAL forward pass, simulating a do-operation.\n",
    "        \n",
    "        This is the core of the causal inference capability. In the SCM framework, a\n",
    "        do-operation `do(X_i = v)` means we replace the mechanism that generates X_i\n",
    "        with a constant value 'v', severing the influence of its parents.\n",
    "        \n",
    "        Args:\n",
    "            x (Tensor): The ORIGINAL node features before intervention.\n",
    "            edge_index (Tensor): The ORIGINAL graph structure.\n",
    "            intervened_nodes (Tensor): A 1D tensor of node indices to intervene on.\n",
    "            new_feature_values (Tensor): A tensor of new feature values to clamp onto the\n",
    "                                         intervened nodes. Shape: [num_intervened_nodes, num_features].\n",
    "        \n",
    "        Returns:\n",
    "            Tensor: The post-intervention predictions for all nodes in the graph.\n",
    "        \"\"\"\n",
    "       \n",
    "        \n",
    "        # Step 1: Clamp Node Features\n",
    "        x_intervened = x.clone()\n",
    "        x_intervened[intervened_nodes] = new_feature_values\n",
    "\n",
    "\n",
    "        # Step 2: Perform \"Graph Mutilation\"\n",
    "        # We sever all causal links (edges) pointing into the intervened node.\n",
    "        edge_mask = torch.ones(edge_index.size(1), dtype=torch.bool, device=x.device)\n",
    "        for node_idx in intervened_nodes:\n",
    "            edge_mask &= (edge_index[1] != node_idx)\n",
    "        \n",
    "        intervened_edge_index = edge_index[:, edge_mask]\n",
    "\n",
    "\n",
    "        # Step 3: Run the forward pass on the surgically-modified graph\n",
    "        # We cannot simply call forward since EdgeWiseGNNLayer was initialized knowing about num_edges.\n",
    "\n",
    "        all_edge_ids = torch.arange(self.num_edges, device=x.device)\n",
    "        intervened_edge_ids = all_edge_ids[edge_mask]\n",
    "        \n",
    "        # Manually perform the forward pass on the modified graph structure\n",
    "        noise = torch.randn(x.size(0), self.noise_dim, device=x.device)\n",
    "        x_with_noise = torch.cat([x_intervened, noise], dim=1)\n",
    "        \n",
    "        # Pass through Layer 1\n",
    "        h1 = self.conv1(x_with_noise, intervened_edge_index, original_edge_ids=intervened_edge_ids)\n",
    "        h1 = F.relu(h1)\n",
    "        \n",
    "        # Pass through Layer 2\n",
    "        h2 = self.conv2(h1, intervened_edge_index, original_edge_ids=intervened_edge_ids)\n",
    "        h2 = F.relu(h2)\n",
    "        \n",
    "        return self.out(h2)\n"
   ]
  },
  {
   "cell_type": "code",
   "execution_count": 180,
   "id": "59a9b635",
   "metadata": {},
   "outputs": [
    {
     "name": "stdout",
     "output_type": "stream",
     "text": [
      "GNN_NCM(\n",
      "  (conv1): EdgeWiseGNNLayer()\n",
      "  (conv2): EdgeWiseGNNLayer()\n",
      "  (out): Linear(in_features=16, out_features=1, bias=True)\n",
      ")\n"
     ]
    }
   ],
   "source": [
    "# --- Example Usage ---\n",
    "\n",
    "# Assume you have a graph:\n",
    "num_nodes = 10\n",
    "num_features = 5\n",
    "num_edges = 25 # You must know this value beforehand\n",
    "\n",
    "# Define model dimensions\n",
    "hidden_dim = 32\n",
    "out_dim = 16\n",
    "\n",
    "# Instantiate the new, more powerful model\n",
    "causal_model = GNN_NCM(\n",
    "    num_features=num_features,\n",
    "    hidden_dim=hidden_dim,\n",
    "    out_dim=out_dim,\n",
    "    num_edges=num_edges,\n",
    "    gnn_mode='per_edge' # or 'shared'\n",
    ")\n",
    "\n",
    "print(causal_model)"
   ]
  },
  {
   "cell_type": "markdown",
   "id": "fe8cea7a",
   "metadata": {},
   "source": [
    "### A Review of Causal Training Strategies\n",
    "\n",
    "Our GNN-NCM has the architectural capacity for causality, but this is useless unless it is trained in a way that respects causal principles. Since we assume we only have access to observational data, we need a clever training algorithm. Let's review the main families of approaches.\n",
    "\n",
    "* Strategy 1: Supervised Interventional Training (The Ideal Case)\n",
    "\n",
    "    As implemented, if we are lucky enough to have a dataset of (pre-state, intervention, post-state) tuples, we can directly supervise the do_intervention method. We analyize this more in the synthetic dataset notebook\n",
    "\n",
    "\n",
    "* Strategy 2: Interventional Synthesis \n",
    "\n",
    "    This is the approach pioneered by CXGNN and is the most direct fit for our SCM-like model. As detailed below, it uses the model's own interventional predictions as a way to self-supervise and derive a causally-plausible estimate of the observational outcome."
   ]
  },
  {
   "cell_type": "markdown",
   "id": "74af7c6f",
   "metadata": {},
   "source": [
    "## Hybrid Causal Trainer\n",
    "\n",
    "Our chosen training method is Hybrid Causal Trainer which will focus on Interventional Synthesis Principle capturing the two key actions involved:\n",
    "\n",
    "1. Intervention: We perform a series of hypothetical do-interventions on a node's parents.\n",
    "2. Synthesis: We then synthesize these individual, hypothetical outcomes (by averaging them) to reconstruct or explain the factual, observed state of the node.\n",
    "\n",
    "Here the causal loss component acts as a structural regularizer. Its entire purpose is to optimize the parameters of the causal mechanisms within our model (like the structural assumptions that SCM gives). The process is as follows:\n",
    "\n",
    "1. For a given node v, we identify its parents, pa(v).\n",
    "2. We perform a set of \"what-if\" simulations by calling model.do_intervention(parent) for each parent in pa(v).\n",
    "3. These calls produce a set of interventional predictions for v.\n",
    "4. We average these predictions to get the causally_derived_pred.\n",
    "5. The loss MSE(causally_derived_pred, target) is calculated.\n",
    "6. Crucially, when loss.backward() is called, the gradient flows backwards through the averaging operation and through each of the do_intervention calls. This means the optimizer is forced to adjust the weights of the per-edge MLPs to make the causally-derived prediction more accurate.\n",
    "\n",
    "Finally our training will combine two of two steps:\n",
    "\n",
    "- Observational Loss: A standard supervised loss that compares the model's normal forward() pass prediction directly against the ground truth label (y_true). This anchors the model in reality and ensures it learns to be an accurate predictor.\n",
    "\n",
    "- Hybrid Loss: We calculate the loss through the do-intervention forward passes that follow the Interventional Synthesis Algorithm and combine it with observational loss as Total Loss = w_obs*Loss_obs + w_causal * Loss_causal. This pushes the model to understand causal structures while while keeping the model accurate."
   ]
  },
  {
   "cell_type": "code",
   "execution_count": 181,
   "id": "ad4999b5",
   "metadata": {},
   "outputs": [],
   "source": [
    "# --- teacher-free interventional curriculum trainer (single loader; no masks, no teacher) ---\n",
    "\n",
    "import torch, torch.nn as nn, torch.optim as optim\n",
    "\n",
    "class CausalTwoPartTrainer:\n",
    "    def __init__(self,\n",
    "                 epochs_obs=30,\n",
    "                 epochs_do=150,\n",
    "                 lr=5e-3,\n",
    "                 w_obs=0.2,\n",
    "                 w_do=1.0,\n",
    "                 weight_decay=1e-4,\n",
    "                 clip=1.0,\n",
    "                 # knobs for your causal do(parent) construction\n",
    "                 neutral='zeros',     # 'zeros' or 'self+delta'\n",
    "                 delta=0.0):          # scalar or 1D tensor of size F (used when neutral == 'self+delta')\n",
    "        self.epochs_obs = int(epochs_obs)\n",
    "        self.epochs_do  = int(epochs_do)\n",
    "        self.lr  = float(lr)\n",
    "        self.w_obs = float(w_obs)\n",
    "        self.w_do  = float(w_do)\n",
    "        self.wd  = float(weight_decay)\n",
    "        self.clip = float(clip)\n",
    "\n",
    "        self.neutral = str(neutral)\n",
    "        # delta can be float or tensor; we’ll broadcast to feature size later\n",
    "        self.delta = delta\n",
    "\n",
    "        self.loss = nn.MSELoss()\n",
    "        self.history = []\n",
    "\n",
    "    \n",
    "    # expects ONE DataLoader of observational snapshots (each g has: x, edge_index, y)\n",
    "    def train(self, model, loader, val_loader=None, val_node_idx=None):\n",
    "        dev = next(model.parameters()).device\n",
    "        model = model.to(dev)\n",
    "\n",
    "        # -------- Phase 1: observational warm-up (obs only) --------\n",
    "        opt = optim.AdamW(model.parameters(), lr=self.lr, weight_decay=self.wd)\n",
    "        for ep in range(1, self.epochs_obs + 1):\n",
    "            model.train()\n",
    "            obs_sum, n_obs = 0.0, 0\n",
    "            for g in loader:\n",
    "                g = g.to(dev)\n",
    "                pred = model(g.x, g.edge_index)\n",
    "                l_obs = self.loss(pred, g.y)\n",
    "\n",
    "                opt.zero_grad()\n",
    "                l_obs.backward()\n",
    "                if self.clip: torch.nn.utils.clip_grad_norm_(model.parameters(), self.clip)\n",
    "                opt.step()\n",
    "\n",
    "                obs_sum += float(l_obs.detach()); n_obs += 1\n",
    "\n",
    "            m_obs = obs_sum / n_obs\n",
    "            m_val= self.evaluate_obs_mse(model, val_loader, node_idx=val_node_idx)\n",
    "\n",
    "            self.history.append({\n",
    "                \"epoch\": ep, \"phase\": \"obs\",\n",
    "                \"loss_obs\": m_obs, \"loss_do\": None, \"loss_total\": m_obs,\n",
    "                \"val_obs\": m_val\n",
    "            })\n",
    "            if ep % 10 == 0:\n",
    "                msg = f\"[obs {ep:03d}] obs={m_obs:.6f}\"\n",
    "                if m_val is not None: msg += f\" | val_obs={m_val:.6f}\"\n",
    "                print(msg)\n",
    "\n",
    "\n",
    "        # -------- Phase 2: obs + teacher-free causal (one combined step per batch) --------\n",
    "        # reset optimizer to avoid stale momentum from Phase 1\n",
    "        opt = optim.AdamW(model.parameters(), lr=self.lr, weight_decay=self.wd)\n",
    "\n",
    "        \n",
    "        for ep in range(1, self.epochs_do + 1):\n",
    "            model.train()\n",
    "            obs_sum, do_sum, n_obs, n_do = 0.0, 0.0, 0, 0\n",
    "\n",
    "            for g in loader:\n",
    "                g = g.to(dev)\n",
    "                x, edge_index, y = g.x, g.edge_index, g.y\n",
    "\n",
    "                # observational term\n",
    "                p_obs = model(x, edge_index)\n",
    "                l_obs = self.loss(p_obs, y)\n",
    "                obs_sum += float(l_obs.detach()); n_obs += 1\n",
    "\n",
    "                # teacher-free causal term: do(parent) one at a time, aggregate to each child\n",
    "                l_cau = self._causal_loss_do_parent_average(model, g, p_obs)\n",
    "                do_sum += float(l_cau.detach()); n_do += 1\n",
    "\n",
    "                # combine and step once\n",
    "                total = (self.w_obs * l_obs) + (self.w_do * l_cau)\n",
    "                opt.zero_grad()\n",
    "                total.backward()\n",
    "                if self.clip: torch.nn.utils.clip_grad_norm_(model.parameters(), self.clip)\n",
    "                opt.step()\n",
    "\n",
    "            m_obs = obs_sum / max(n_obs, 1) if n_obs else 0.0\n",
    "            m_do  = do_sum  / max(n_do,  1) if n_do  else 0.0\n",
    "            total_epoch = (self.w_obs * m_obs) + (self.w_do * m_do if n_do else 0.0)\n",
    "\n",
    "            m_val= self.evaluate_obs_mse(model, val_loader, node_idx=val_node_idx)\n",
    "\n",
    "            ep_abs = self.epochs_obs + ep\n",
    "            self.history.append({\n",
    "                \"epoch\": ep_abs, \"phase\": \"do\",\n",
    "                \"loss_obs\": m_obs, \"loss_do\": m_do, \"loss_total\": total_epoch,\n",
    "                \"val_obs\": m_val\n",
    "            })\n",
    "            if ep % 10 == 0:\n",
    "                msg = f\"[do  {ep:03d}] total={total_epoch:.6f} (obs={m_obs:.6f}, do={m_do:.6f})\"\n",
    "                if m_val is not None: msg += f\" | val_obs={m_val:.6f}\"\n",
    "                print(msg)\n",
    "\n",
    "\n",
    "        return model\n",
    "\n",
    "    def _causal_loss_do_parent_average(self, model, g, p_obs):\n",
    "        \"\"\"\n",
    "        Implements your causal loss verbatim:\n",
    "          - For each UNIQUE parent node p (from edges src->dst), compute prediction under do(p)\n",
    "            where features of p are set to a neutral row ('zeros' or 'self+delta').\n",
    "          - For each child v, average the do(p)[v] over all parents p of v to form a target.\n",
    "          - Compare that target to TRUE y[v] (MSE), average over nodes that have parents.\n",
    "\n",
    "        No teacher labels (y_do) and no masks are used.\n",
    "        \"\"\"\n",
    "        dev = p_obs.device\n",
    "        x, edge_index, y = g.x, g.edge_index, g.y\n",
    "        N, F = x.size(0), x.size(1)\n",
    "\n",
    "        # edges assumed in PyG convention: [2, E] with src = edge_index[0], dst = edge_index[1]\n",
    "        src, dst = edge_index[0], edge_index[1]\n",
    "        if src.numel() == 0:\n",
    "            # no edges -> no parents -> causal term 0 (preserve grad graph/dtype)\n",
    "            return 0.0 * p_obs.sum()\n",
    "\n",
    "        unique_parents = torch.unique(src)\n",
    "\n",
    "        # prepare delta row if needed\n",
    "        if isinstance(self.delta, torch.Tensor):\n",
    "            delta_row = self.delta.to(device=dev, dtype=x.dtype)\n",
    "        else:\n",
    "            delta_row = torch.full((F,), float(self.delta), device=dev, dtype=x.dtype)\n",
    "\n",
    "        # compute do(parent) predictions once per parent\n",
    "        p1_map = {}\n",
    "        for p in unique_parents.tolist():\n",
    "            p = int(p)\n",
    "            if self.neutral == 'zeros':\n",
    "                new_row = torch.zeros(F, device=dev, dtype=x.dtype)\n",
    "            else:  # 'self+delta'\n",
    "                new_row = x[p] + delta_row\n",
    "\n",
    "            if hasattr(model, \"do_intervention\") and callable(getattr(model, \"do_intervention\")):\n",
    "                p1 = model.do_intervention(\n",
    "                    x, edge_index,\n",
    "                    intervened_nodes=torch.tensor([p], dtype=torch.long, device=dev),\n",
    "                    new_feature_values=new_row.unsqueeze(0)\n",
    "                )  # [N, ...]\n",
    "            else:\n",
    "                # fallback: override node p's features and run a forward pass\n",
    "                x_do = x.clone()\n",
    "                x_do[p] = new_row\n",
    "                p1 = model(x_do, edge_index)  # [N, ...]\n",
    "            p1_map[p] = p1\n",
    "\n",
    "        # aggregate targets per child and compare to TRUE y[v]\n",
    "        loss_causal = 0.0\n",
    "        count = 0\n",
    "        for v in range(N):\n",
    "            parents_v = src[dst == v]\n",
    "            if parents_v.numel() == 0:\n",
    "                continue\n",
    "            vals = []\n",
    "            for p in parents_v.tolist():\n",
    "                if p in p1_map:\n",
    "                    vals.append(p1_map[p][v])  # prediction at node v under do(p)\n",
    "            if not vals:\n",
    "                continue\n",
    "            target_v = torch.stack(vals, dim=0).mean(dim=0)  # averaged target for node v\n",
    "            loss_causal = loss_causal + self.loss(target_v, y[v])\n",
    "            count += 1\n",
    "\n",
    "        return (loss_causal / count) if count > 0 else (0.0 * p_obs.sum())\n",
    "\n",
    "    @torch.no_grad()\n",
    "    def evaluate_obs_mse(self, model, loader, node_idx=None):\n",
    "        model.eval()\n",
    "        dev = next(model.parameters()).device\n",
    "        tot, n = 0.0, 0\n",
    "        for g in loader:\n",
    "            g = g.to(dev)\n",
    "            p = model(g.x, g.edge_index)   # [N], [N,1], or [N,C]\n",
    "            y = g.y                        # [N], [N,1], or [N,C]\n",
    "\n",
    "            # --- safe, few-line fix for single-node eval ---\n",
    "            if node_idx is not None and p.shape[0] == y.shape[0]:\n",
    "                idx = node_idx if torch.is_tensor(node_idx) else torch.tensor([int(node_idx)], device=dev)\n",
    "                idx = idx.to(torch.long).view(-1)\n",
    "                p = p.index_select(0, idx)\n",
    "                y = y.index_select(0, idx)\n",
    "            # align [N,1] ↔ [N]\n",
    "            if p.dim()==2 and p.size(-1)==1: p = p.squeeze(-1)\n",
    "            if y.dim()==2 and y.size(-1)==1: y = y.squeeze(-1)\n",
    "            # -----------------------------------------------\n",
    "\n",
    "            tot += self.loss(p, y).item(); n += 1\n",
    "        return tot / max(n, 1)\n",
    "\n"
   ]
  },
  {
   "cell_type": "code",
   "execution_count": 182,
   "id": "288ad26e",
   "metadata": {},
   "outputs": [
    {
     "name": "stdout",
     "output_type": "stream",
     "text": [
      "[obs 010] obs=2.953207 | val_obs=0.693764\n",
      "[obs 020] obs=1.558562 | val_obs=0.211974\n",
      "[obs 030] obs=0.639747 | val_obs=0.241203\n",
      "[obs 040] obs=0.531446 | val_obs=0.372664\n",
      "[do  010] total=0.554710 (obs=0.769186, do=0.400872) | val_obs=0.254773\n",
      "[do  020] total=0.320011 (obs=0.532796, do=0.213452) | val_obs=0.043994\n"
     ]
    },
    {
     "data": {
      "image/png": "[encoded data removed]",
      "text/plain": [
       "<Figure size 1000x500 with 1 Axes>"
      ]
     },
     "metadata": {},
     "output_type": "display_data"
    },
    {
     "name": "stdout",
     "output_type": "stream",
     "text": [
      "final val_obs = 0.044418882679842085\n"
     ]
    }
   ],
   "source": [
    "from pathlib import Path\n",
    "import sys\n",
    "\n",
    "PROJECT_ROOT = Path().resolve().parent\n",
    "if str(PROJECT_ROOT) not in sys.path:\n",
    "    sys.path.insert(0, str(PROJECT_ROOT))  \n",
    "\n",
    "PROCCESSED_DATA_DIR = PROJECT_ROOT / \"data\" / \"processed\"\n",
    "PROCCESSED_DATA_DIR.mkdir(parents=True, exist_ok=True)\n",
    "\n",
    "\n",
    "from torch_geometric.loader import DataLoader\n",
    "from torch.utils.data import Subset\n",
    "from src.dataloader import CausalFactorDataset\n",
    "\n",
    "full_dataset = CausalFactorDataset(root_dir=PROCCESSED_DATA_DIR, target_node=\"VOL\", feature_col=None, drop_self_for_target=True)\n",
    "\n",
    "# --- use it with a DataLoader and plot ---\n",
    "import pandas as pd, matplotlib.pyplot as plt\n",
    "\n",
    "split = int(0.8*len(full_dataset))\n",
    "train_loader = DataLoader(Subset(full_dataset, range(split)), batch_size=1, shuffle=True)\n",
    "val_loader   = DataLoader(Subset(full_dataset, range(split, len(full_dataset))), batch_size=1, shuffle=False)\n",
    "\n",
    "# dims\n",
    "g0 = next(iter(train_loader))\n",
    "num_features = g0.num_node_features\n",
    "num_edges    = g0.edge_index.size(1)\n",
    "\n",
    "# model\n",
    "model = GNN_NCM(num_features=num_features, num_edges=num_edges, gnn_mode='per_edge',\n",
    "                hidden_dim=32, out_dim=16).to(g0.x.device)\n",
    "\n",
    "# trainer (two-phase, fixed gamma)\n",
    "trainer = CausalTwoPartTrainer(\n",
    "    epochs_obs=40, epochs_do=20, w_obs=0.2, w_do=1.0,\n",
    "    neutral='zeros',           # or 'self+delta'\n",
    "    delta=0.1                  # scalar or 1D tensor (used only if neutral='self+delta')\n",
    ")\n",
    "\n",
    "\n",
    "trainer.train(model, train_loader, val_loader=val_loader, val_node_idx=None)  \n",
    "\n",
    "# plot\n",
    "df = pd.DataFrame(trainer.history)\n",
    "\n",
    "plt.figure(figsize=(10,5))\n",
    "if \"val_obs\" in df and df[\"val_obs\"].notna().any():\n",
    "    plt.plot(df[\"epoch\"], df[\"val_obs\"], label=\"val_obs\", linewidth=3)\n",
    "if \"loss_obs\" in df: plt.plot(df[\"epoch\"], df[\"loss_obs\"], label=\"train_obs\", alpha=0.6)\n",
    "if \"loss_total\" in df: plt.plot(df[\"epoch\"], df[\"loss_total\"], label=\"train_total\", alpha=0.6)\n",
    "plt.xlabel(\"epoch\"); plt.ylabel(\"loss\"); plt.title(\"Validation loss over training\")\n",
    "plt.legend(); plt.grid(True, linestyle='--'); plt.tight_layout(); plt.show()\n",
    "\n",
    "print(\"final val_obs =\", trainer.evaluate_obs_mse(model, val_loader, node_idx = None))\n"
   ]
  },
  {
   "cell_type": "markdown",
   "id": "ea7b3924",
   "metadata": {},
   "source": [
    "## Hyperparameter Selection"
   ]
  },
  {
   "cell_type": "code",
   "execution_count": null,
   "id": "42aff412",
   "metadata": {},
   "outputs": [],
   "source": [
    "from torch_geometric.loader import DataLoader\n",
    "from torch.utils.data import Subset\n",
    "from itertools import product\n",
    "from tqdm.auto import tqdm\n",
    "import numpy as np\n",
    "import pandas as pd\n",
    "import torch\n",
    "import yaml\n",
    "import time\n",
    "import math\n",
    "import random\n",
    "\n",
    "def make_loaders(dataset, split=0.8, batch_size=1):\n",
    "    n = len(dataset)\n",
    "    s = int(split * n)\n",
    "    train_idx = list(range(s))\n",
    "    val_idx   = list(range(s, n))\n",
    "    train_loader = DataLoader(Subset(dataset, train_idx), batch_size=batch_size, shuffle=True)\n",
    "    val_loader   = DataLoader(Subset(dataset, val_idx),   batch_size=batch_size, shuffle=False)\n",
    "    return train_loader, val_loader\n",
    "\n",
    "def sample_config(rng, space):\n",
    "    \"\"\"Sample one config from a mixed search space with discrete choices and ranges.\"\"\"\n",
    "    cfg = {}\n",
    "    for k, spec in space.items():\n",
    "        if isinstance(spec, list):\n",
    "            cfg[k] = rng.choice(spec)\n",
    "        else:\n",
    "            raise ValueError(f\"Unsupported search spec for {k}: {spec}\")\n",
    "    return cfg\n",
    "\n",
    "def tune_hyperparameters_random(dataset, n_trials=40, seed=42, val_node_key=None):\n",
    "    # Set seeds for reproducibility\n",
    "    rng = np.random.default_rng(seed)\n",
    "    torch.manual_seed(seed)\n",
    "    random.seed(seed)\n",
    "\n",
    "    train_loader, val_loader = make_loaders(dataset, split=0.8, batch_size=1)\n",
    "    g0 = dataset[0]\n",
    "    num_features = g0.num_node_features\n",
    "    num_edges    = g0.edge_index.size(1)\n",
    "    device       = g0.x.device\n",
    "\n",
    "\n",
    "    # ----- define a larger search space -----\n",
    "    search_space = {\n",
    "        # model\n",
    "        \"hidden_dim\": [16, 32, 64],\n",
    "        \"out_dim\":    [8, 16, 32],\n",
    "\n",
    "        # optimizer\n",
    "        \"lr\": [1e-4, 5e-3, 1e-3, 1e-2],            # log-uniform range for random search\n",
    "        \"weight_decay\": [1e-4, 1e-3],  # log-uniform range for random search\n",
    "\n",
    "        # trainer knobs\n",
    "        \"epochs_obs\": [20, 40, 60],\n",
    "        \"epochs_do\":  [10, 20, 30],\n",
    "        \"w_obs\":      [0.1, 0.2, 0.5],\n",
    "        \"w_do\":       [0.5, 1.0, 2.0],\n",
    "        \"clip\":       [0.5, 1.0, 2.0],\n",
    "        \"neutral\":    [\"zeros\", \"self+delta\"],\n",
    "        \"delta\":      [0.0, 0.1, 1.0],   # only used if neutral == 'self+delta'\n",
    "    }\n",
    "\n",
    "    results = []\n",
    "    best = {\"val\": float(\"inf\"), \"cfg\": None, \"history\": None}\n",
    "\n",
    "    print(f\"Starting random search with {n_trials} trials...\")\n",
    "    for t in tqdm(range(n_trials), desc=\"Random Search\"):\n",
    "        # Sample a random configuration in each trial\n",
    "        cfg = sample_config(rng, search_space)\n",
    "\n",
    "        # build model\n",
    "        model = GNN_NCM(num_features=num_features, num_edges=num_edges,\n",
    "                        gnn_mode='per_edge',\n",
    "                        hidden_dim=int(cfg[\"hidden_dim\"]),\n",
    "                        out_dim=int(cfg[\"out_dim\"])).to(device)\n",
    "\n",
    "        # build trainer\n",
    "        trainer = CausalTwoPartTrainer(\n",
    "            epochs_obs=int(cfg[\"epochs_obs\"]),\n",
    "            epochs_do=int(cfg[\"epochs_do\"]),\n",
    "            lr=float(cfg[\"lr\"]),\n",
    "            w_obs=float(cfg[\"w_obs\"]),\n",
    "            w_do=float(cfg[\"w_do\"]),\n",
    "            weight_decay=float(cfg[\"weight_decay\"]),\n",
    "            clip=float(cfg[\"clip\"]),\n",
    "            neutral=cfg[\"neutral\"],\n",
    "            delta=float(cfg[\"delta\"])\n",
    "        )\n",
    "\n",
    "        # train with validation tracking\n",
    "        # Assuming val_node_idx is defined elsewhere in your script\n",
    "        val_node_idx = None # Placeholder, please define as needed\n",
    "        trainer.train(model, train_loader, val_loader=val_loader, val_node_idx=val_node_idx)\n",
    "\n",
    "        # choose best validation obs over epochs\n",
    "        df = pd.DataFrame(trainer.history)\n",
    "        if \"val_obs\" in df and df[\"val_obs\"].notna().any():\n",
    "            val_best = float(df[\"val_obs\"].min())\n",
    "        else:\n",
    "            # fallback: compute once\n",
    "            val_best = float(trainer.evaluate_obs_mse(model, val_loader, node_idx=val_node_idx))\n",
    "\n",
    "        results.append({\"trial\": t, \"val_best\": val_best, \"cfg\": cfg})\n",
    "\n",
    "        if val_best < best[\"val\"]:\n",
    "            best = {\"val\": val_best, \"cfg\": cfg, \"history\": trainer.history}\n",
    "            print(f\"New best @ trial {t}: val={val_best:.6f} cfg={cfg}\")\n",
    "\n",
    "    # pretty-print best\n",
    "    print(\"\\n--- Hyperparameter Tuning Complete ---\")\n",
    "    print(f\"Best validation loss: {best['val']:.6f}\")\n",
    "    print(\"Best hyperparameters:\")\n",
    "\n",
    "    best_cfg = {\n",
    "        \"experiment_name\": \"GNN_NCM_TwoPart_VOL\",\n",
    "        \"seed\": seed,\n",
    "        \"device\": \"cuda\",\n",
    "        \"data\": {\n",
    "            \"data_dir\": PROCCESSED_DATA_DIR,\n",
    "            \"target_node\": \"VOL\",\n",
    "            \"batch_size\": 1,\n",
    "        },\n",
    "        \"model\": {\n",
    "            \"name\": \"GNN_NCM\",\n",
    "            \"gnn_mode\": \"per_edge\",\n",
    "            \"hidden_dim\": int(best[\"cfg\"][\"hidden_dim\"]),\n",
    "            \"out_dim\": int(best[\"cfg\"][\"out_dim\"]),\n",
    "            \"noise_dim\": 4,\n",
    "        },\n",
    "        \"training\": {\n",
    "            \"type\": \"CausalTwoPartTrainer\",\n",
    "            \"epochs_obs\": int(best[\"cfg\"][\"epochs_obs\"]),\n",
    "            \"epochs_do\":  int(best[\"cfg\"][\"epochs_do\"]),\n",
    "            \"lr\": float(best[\"cfg\"][\"lr\"]),\n",
    "            \"weight_decay\": float(best[\"cfg\"][\"weight_decay\"]),\n",
    "            \"clip\": float(best[\"cfg\"][\"clip\"]),\n",
    "            \"w_obs\": float(best[\"cfg\"][\"w_obs\"]),\n",
    "            \"w_do\":  float(best[\"cfg\"][\"w_do\"]),\n",
    "            \"neutral\": str(best[\"cfg\"][\"neutral\"]),\n",
    "            \"delta\": float(best[\"cfg\"][\"delta\"]),\n",
    "        },\n",
    "        \"output\": {\"output_dir\": \"outputs\"},\n",
    "    }\n",
    "\n",
    "\n",
    "    return best_cfg, results\n"
   ]
  },
  {
   "cell_type": "markdown",
   "id": "0ffd0850",
   "metadata": {},
   "source": [
    "### Saving the Parameters"
   ]
  },
  {
   "cell_type": "code",
   "execution_count": 184,
   "id": "c04aa80c",
   "metadata": {},
   "outputs": [
    {
     "name": "stdout",
     "output_type": "stream",
     "text": [
      "Starting random search with 50 trials...\n"
     ]
    },
    {
     "name": "stderr",
     "output_type": "stream",
     "text": [
      "Random Search:   0%|          | 0/50 [00:00<?, ?it/s]"
     ]
    },
    {
     "name": "stdout",
     "output_type": "stream",
     "text": [
      "[obs 010] obs=3.065552 | val_obs=1.725381\n",
      "[obs 020] obs=0.433671 | val_obs=0.576057\n",
      "[obs 030] obs=1.789342 | val_obs=0.182775\n",
      "[obs 040] obs=0.170782 | val_obs=0.465309\n",
      "[obs 050] obs=2.597381 | val_obs=0.154562\n",
      "[obs 060] obs=0.775223 | val_obs=0.053190\n"
     ]
    },
    {
     "name": "stderr",
     "output_type": "stream",
     "text": [
      "Random Search:   2%|▏         | 1/50 [13:36<11:06:55, 816.65s/it]"
     ]
    },
    {
     "name": "stdout",
     "output_type": "stream",
     "text": [
      "[do  010] total=0.412576 (obs=0.828520, do=0.659448) | val_obs=0.023873\n",
      "New best @ trial 0: val=0.023873 cfg={'hidden_dim': np.int64(16), 'out_dim': np.int64(32), 'lr': np.float64(0.001), 'weight_decay': np.float64(0.0001), 'epochs_obs': np.int64(60), 'epochs_do': np.int64(10), 'w_obs': np.float64(0.1), 'w_do': np.float64(0.5), 'clip': np.float64(1.0), 'neutral': np.str_('zeros'), 'delta': np.float64(0.1)}\n",
      "[obs 010] obs=2.608815 | val_obs=3.231767\n",
      "[obs 020] obs=0.634484 | val_obs=0.068238\n",
      "[do  010] total=0.952578 (obs=0.770304, do=0.283713) | val_obs=0.041644\n",
      "[do  020] total=64.699155 (obs=37.612421, do=22.946472) | val_obs=1.624515\n"
     ]
    },
    {
     "name": "stderr",
     "output_type": "stream",
     "text": [
      "Random Search:   4%|▍         | 2/50 [19:08<7:05:00, 531.27s/it] "
     ]
    },
    {
     "name": "stdout",
     "output_type": "stream",
     "text": [
      "[do  030] total=2.241867 (obs=2.826911, do=0.414206) | val_obs=1.079282\n",
      "[obs 010] obs=42.712992 | val_obs=49.300377\n",
      "[obs 020] obs=13.586010 | val_obs=0.992228\n",
      "[obs 030] obs=12.255415 | val_obs=0.599953\n",
      "[obs 040] obs=9.111104 | val_obs=1.102664\n",
      "[obs 050] obs=8.725793 | val_obs=1.810369\n",
      "[obs 060] obs=7.379903 | val_obs=1.599980\n"
     ]
    },
    {
     "name": "stderr",
     "output_type": "stream",
     "text": [
      "Random Search:   6%|▌         | 3/50 [23:34<5:21:15, 410.11s/it]"
     ]
    },
    {
     "name": "stdout",
     "output_type": "stream",
     "text": [
      "[do  010] total=1.382251 (obs=6.199776, do=0.071148) | val_obs=0.095088\n",
      "[obs 010] obs=3.307352 | val_obs=0.214318\n",
      "[obs 020] obs=2.479789 | val_obs=0.284367\n",
      "[obs 030] obs=1.879882 | val_obs=0.836070\n",
      "[obs 040] obs=1.452407 | val_obs=0.395523\n",
      "[obs 050] obs=1.338911 | val_obs=1.006012\n",
      "[obs 060] obs=1.139668 | val_obs=0.417208\n"
     ]
    },
    {
     "name": "stderr",
     "output_type": "stream",
     "text": [
      "Random Search:   8%|▊         | 4/50 [28:19<4:36:34, 360.76s/it]"
     ]
    },
    {
     "name": "stdout",
     "output_type": "stream",
     "text": [
      "[do  010] total=0.300668 (obs=1.075900, do=0.042744) | val_obs=0.437189\n",
      "[obs 010] obs=25.526240 | val_obs=8.086616\n",
      "[obs 020] obs=17.056827 | val_obs=0.829874\n",
      "[obs 030] obs=15.170495 | val_obs=0.953350\n",
      "[obs 040] obs=13.652377 | val_obs=0.760420\n"
     ]
    },
    {
     "name": "stderr",
     "output_type": "stream",
     "text": [
      "Random Search:  10%|█         | 5/50 [32:00<3:52:51, 310.47s/it]"
     ]
    },
    {
     "name": "stdout",
     "output_type": "stream",
     "text": [
      "[do  010] total=2.827209 (obs=13.926935, do=0.083645) | val_obs=0.100500\n",
      "[obs 010] obs=7.588417 | val_obs=2.953742\n",
      "[obs 020] obs=1.852820 | val_obs=0.793067\n",
      "[obs 030] obs=1.811414 | val_obs=0.465383\n",
      "[obs 040] obs=1.278900 | val_obs=0.427221\n",
      "[do  010] total=0.941963 (obs=0.680920, do=0.601503) | val_obs=0.537359\n"
     ]
    },
    {
     "name": "stderr",
     "output_type": "stream",
     "text": [
      "Random Search:  12%|█▏        | 6/50 [36:29<3:37:22, 296.42s/it]"
     ]
    },
    {
     "name": "stdout",
     "output_type": "stream",
     "text": [
      "[do  020] total=1.061767 (obs=0.725490, do=0.699022) | val_obs=0.404067\n",
      "[obs 010] obs=16.285752 | val_obs=1.764938\n",
      "[obs 020] obs=11.156316 | val_obs=0.898177\n",
      "[obs 030] obs=8.969456 | val_obs=0.769776\n",
      "[obs 040] obs=6.952515 | val_obs=0.644528\n"
     ]
    },
    {
     "name": "stderr",
     "output_type": "stream",
     "text": [
      "Random Search:  14%|█▍        | 7/50 [39:34<3:06:18, 259.97s/it]"
     ]
    },
    {
     "name": "stdout",
     "output_type": "stream",
     "text": [
      "[do  010] total=1.528490 (obs=6.764914, do=0.087754) | val_obs=0.116021\n",
      "[obs 010] obs=4.368014 | val_obs=12.340963\n",
      "[obs 020] obs=0.448180 | val_obs=14.057221\n",
      "[do  010] total=0.494051 (obs=0.241469, do=0.222879) | val_obs=3.334355\n"
     ]
    },
    {
     "name": "stderr",
     "output_type": "stream",
     "text": [
      "Random Search:  16%|█▌        | 8/50 [43:48<3:00:39, 258.08s/it]"
     ]
    },
    {
     "name": "stdout",
     "output_type": "stream",
     "text": [
      "[do  020] total=1.303397 (obs=5.316778, do=0.120021) | val_obs=2.360988\n",
      "[obs 010] obs=4.507450 | val_obs=2.266193\n",
      "[obs 020] obs=2.229078 | val_obs=0.516762\n",
      "[obs 030] obs=0.918977 | val_obs=0.614352\n",
      "[obs 040] obs=0.161499 | val_obs=0.046676\n"
     ]
    },
    {
     "name": "stderr",
     "output_type": "stream",
     "text": [
      "Random Search:  18%|█▊        | 9/50 [47:20<2:46:34, 243.76s/it]"
     ]
    },
    {
     "name": "stdout",
     "output_type": "stream",
     "text": [
      "[do  010] total=0.096020 (obs=0.114620, do=0.077421) | val_obs=0.069860\n",
      "New best @ trial 8: val=0.023248 cfg={'hidden_dim': np.int64(64), 'out_dim': np.int64(8), 'lr': np.float64(0.001), 'weight_decay': np.float64(0.0001), 'epochs_obs': np.int64(40), 'epochs_do': np.int64(10), 'w_obs': np.float64(0.5), 'w_do': np.float64(0.5), 'clip': np.float64(1.0), 'neutral': np.str_('zeros'), 'delta': np.float64(1.0)}\n",
      "[obs 010] obs=7.298999 | val_obs=0.147399\n",
      "[obs 020] obs=6.367392 | val_obs=0.242980\n",
      "[do  010] total=0.679284 (obs=6.343544, do=0.044930) | val_obs=0.065377\n"
     ]
    },
    {
     "name": "stderr",
     "output_type": "stream",
     "text": [
      "Random Search:  20%|██        | 10/50 [51:09<2:39:18, 238.97s/it]"
     ]
    },
    {
     "name": "stdout",
     "output_type": "stream",
     "text": [
      "[do  020] total=0.501600 (obs=4.527254, do=0.048874) | val_obs=0.108359\n",
      "[obs 010] obs=5.023852 | val_obs=2.908794\n",
      "[obs 020] obs=2.553351 | val_obs=4.133562\n",
      "[do  010] total=0.109180 (obs=0.295007, do=0.159358) | val_obs=0.085878\n"
     ]
    },
    {
     "name": "stderr",
     "output_type": "stream",
     "text": [
      "Random Search:  22%|██▏       | 11/50 [54:36<2:29:03, 229.31s/it]"
     ]
    },
    {
     "name": "stdout",
     "output_type": "stream",
     "text": [
      "[do  020] total=0.075741 (obs=0.266004, do=0.098281) | val_obs=0.105994\n",
      "[obs 010] obs=4.144992 | val_obs=3.069159\n",
      "[obs 020] obs=1.224422 | val_obs=0.191238\n",
      "[obs 030] obs=0.876971 | val_obs=0.514737\n",
      "[obs 040] obs=106.163902 | val_obs=82.965602\n",
      "[do  010] total=213.047775 (obs=84.283276, do=98.095560) | val_obs=81.938260\n",
      "[do  020] total=215.911377 (obs=85.666851, do=99.389004) | val_obs=81.768364\n"
     ]
    },
    {
     "name": "stderr",
     "output_type": "stream",
     "text": [
      "Random Search:  24%|██▍       | 12/50 [1:00:08<2:45:03, 260.61s/it]"
     ]
    },
    {
     "name": "stdout",
     "output_type": "stream",
     "text": [
      "[do  030] total=220.924376 (obs=88.029925, do=101.659196) | val_obs=82.593296\n",
      "[obs 010] obs=1.657579 | val_obs=0.211234\n",
      "[obs 020] obs=2.579960 | val_obs=0.417133\n",
      "[obs 030] obs=1.080461 | val_obs=0.142208\n",
      "[obs 040] obs=0.609413 | val_obs=0.036321\n",
      "[do  010] total=0.739703 (obs=0.562116, do=0.627280) | val_obs=0.081901\n",
      "[do  020] total=0.947836 (obs=0.733397, do=0.801157) | val_obs=0.212222\n"
     ]
    },
    {
     "name": "stderr",
     "output_type": "stream",
     "text": [
      "Random Search:  26%|██▌       | 13/50 [1:05:42<2:54:23, 282.79s/it]"
     ]
    },
    {
     "name": "stdout",
     "output_type": "stream",
     "text": [
      "[do  030] total=0.779929 (obs=0.593249, do=0.661279) | val_obs=0.094196\n",
      "New best @ trial 12: val=0.022836 cfg={'hidden_dim': np.int64(32), 'out_dim': np.int64(16), 'lr': np.float64(0.005), 'weight_decay': np.float64(0.001), 'epochs_obs': np.int64(40), 'epochs_do': np.int64(30), 'w_obs': np.float64(0.2), 'w_do': np.float64(1.0), 'clip': np.float64(2.0), 'neutral': np.str_('zeros'), 'delta': np.float64(0.0)}\n",
      "[obs 010] obs=1.389108 | val_obs=0.386417\n",
      "[obs 020] obs=1.826568 | val_obs=0.178056\n",
      "[obs 030] obs=0.851797 | val_obs=0.409926\n",
      "[obs 040] obs=0.661636 | val_obs=0.066749\n",
      "[do  010] total=0.729163 (obs=0.352972, do=0.346933) | val_obs=0.155342\n",
      "[do  020] total=0.976371 (obs=0.844807, do=0.445945) | val_obs=0.027999\n"
     ]
    },
    {
     "name": "stderr",
     "output_type": "stream",
     "text": [
      "Random Search:  28%|██▊       | 14/50 [1:11:14<2:58:34, 297.62s/it]"
     ]
    },
    {
     "name": "stdout",
     "output_type": "stream",
     "text": [
      "[do  030] total=0.499003 (obs=0.556320, do=0.221686) | val_obs=0.460208\n",
      "[obs 010] obs=18.010047 | val_obs=2.864322\n",
      "[obs 020] obs=9.329945 | val_obs=0.514069\n"
     ]
    },
    {
     "name": "stderr",
     "output_type": "stream",
     "text": [
      "Random Search:  30%|███       | 15/50 [1:13:33<2:25:43, 249.80s/it]"
     ]
    },
    {
     "name": "stdout",
     "output_type": "stream",
     "text": [
      "[do  010] total=1.805952 (obs=8.821261, do=0.083398) | val_obs=0.422963\n",
      "[obs 010] obs=6.041547 | val_obs=2.133621\n",
      "[obs 020] obs=0.876472 | val_obs=0.646252\n"
     ]
    },
    {
     "name": "stderr",
     "output_type": "stream",
     "text": [
      "Random Search:  32%|███▏      | 16/50 [1:15:52<2:02:40, 216.48s/it]"
     ]
    },
    {
     "name": "stdout",
     "output_type": "stream",
     "text": [
      "[do  010] total=2.075360 (obs=3.272143, do=0.878577) | val_obs=0.022020\n",
      "New best @ trial 15: val=0.022020 cfg={'hidden_dim': np.int64(16), 'out_dim': np.int64(8), 'lr': np.float64(0.005), 'weight_decay': np.float64(0.001), 'epochs_obs': np.int64(20), 'epochs_do': np.int64(10), 'w_obs': np.float64(0.5), 'w_do': np.float64(0.5), 'clip': np.float64(2.0), 'neutral': np.str_('zeros'), 'delta': np.float64(0.0)}\n",
      "[obs 010] obs=10.043379 | val_obs=0.110687\n",
      "[obs 020] obs=3.829228 | val_obs=4.554368\n",
      "[obs 030] obs=5.634345 | val_obs=7.050325\n",
      "[obs 040] obs=1.307706 | val_obs=8.103571\n",
      "[do  010] total=2.276888 (obs=3.025620, do=0.987163) | val_obs=8.419278\n",
      "[do  020] total=1.795909 (obs=2.236624, do=0.786123) | val_obs=1.143154\n"
     ]
    },
    {
     "name": "stderr",
     "output_type": "stream",
     "text": [
      "Random Search:  34%|███▍      | 17/50 [1:22:06<2:25:10, 263.96s/it]"
     ]
    },
    {
     "name": "stdout",
     "output_type": "stream",
     "text": [
      "[do  030] total=1.792946 (obs=3.557614, do=0.718592) | val_obs=0.471783\n",
      "[obs 010] obs=16.539397 | val_obs=2.737154\n",
      "[obs 020] obs=10.602677 | val_obs=0.208548\n",
      "[obs 030] obs=9.821732 | val_obs=0.581357\n",
      "[obs 040] obs=8.246893 | val_obs=1.052093\n"
     ]
    },
    {
     "name": "stderr",
     "output_type": "stream",
     "text": [
      "Random Search:  36%|███▌      | 18/50 [1:25:13<2:08:18, 240.57s/it]"
     ]
    },
    {
     "name": "stdout",
     "output_type": "stream",
     "text": [
      "[do  010] total=1.071200 (obs=10.157029, do=0.055497) | val_obs=0.079023\n",
      "[obs 010] obs=5.254734 | val_obs=0.380794\n",
      "[obs 020] obs=2.807999 | val_obs=1.545871\n",
      "[obs 030] obs=1.044869 | val_obs=0.172636\n",
      "[obs 040] obs=0.308682 | val_obs=0.164943\n",
      "[do  010] total=0.175056 (obs=0.201460, do=0.077455) | val_obs=0.020214\n"
     ]
    },
    {
     "name": "stderr",
     "output_type": "stream",
     "text": [
      "Random Search:  38%|███▊      | 19/50 [1:30:29<2:16:07, 263.46s/it]"
     ]
    },
    {
     "name": "stdout",
     "output_type": "stream",
     "text": [
      "[do  020] total=0.156134 (obs=0.233760, do=0.066379) | val_obs=0.028260\n",
      "New best @ trial 18: val=0.020214 cfg={'hidden_dim': np.int64(64), 'out_dim': np.int64(8), 'lr': np.float64(0.001), 'weight_decay': np.float64(0.001), 'epochs_obs': np.int64(40), 'epochs_do': np.int64(20), 'w_obs': np.float64(0.1), 'w_do': np.float64(2.0), 'clip': np.float64(0.5), 'neutral': np.str_('zeros'), 'delta': np.float64(1.0)}\n",
      "[obs 010] obs=4.589170 | val_obs=3.144046\n",
      "[obs 020] obs=0.561538 | val_obs=2.817467\n",
      "[obs 030] obs=1.323993 | val_obs=0.816790\n",
      "[obs 040] obs=0.818231 | val_obs=0.339958\n",
      "[obs 050] obs=0.332649 | val_obs=0.198806\n",
      "[obs 060] obs=0.233852 | val_obs=0.169385\n",
      "[do  010] total=0.233921 (obs=0.334542, do=0.100233) | val_obs=0.045886\n",
      "[do  020] total=0.214190 (obs=0.113631, do=0.101413) | val_obs=0.106107\n"
     ]
    },
    {
     "name": "stderr",
     "output_type": "stream",
     "text": [
      "Random Search:  40%|████      | 20/50 [1:38:01<2:39:57, 319.91s/it]"
     ]
    },
    {
     "name": "stdout",
     "output_type": "stream",
     "text": [
      "[do  030] total=0.178946 (obs=0.081876, do=0.085379) | val_obs=0.037592\n",
      "[obs 010] obs=2.813197 | val_obs=0.195537\n",
      "[obs 020] obs=0.701745 | val_obs=0.121755\n",
      "[obs 030] obs=0.678321 | val_obs=0.142402\n",
      "[obs 040] obs=0.703600 | val_obs=0.263224\n",
      "[obs 050] obs=0.661672 | val_obs=0.463799\n",
      "[obs 060] obs=0.379025 | val_obs=0.318654\n"
     ]
    },
    {
     "name": "stderr",
     "output_type": "stream",
     "text": [
      "Random Search:  42%|████▏     | 21/50 [1:42:00<2:22:52, 295.61s/it]"
     ]
    },
    {
     "name": "stdout",
     "output_type": "stream",
     "text": [
      "[do  010] total=0.110976 (obs=0.180586, do=0.149717) | val_obs=0.513864\n",
      "[obs 010] obs=2.290227 | val_obs=11.106174\n",
      "[obs 020] obs=4.417415 | val_obs=9.879511\n",
      "[obs 030] obs=1.233122 | val_obs=7.394811\n",
      "[obs 040] obs=2.366851 | val_obs=10.498223\n"
     ]
    },
    {
     "name": "stderr",
     "output_type": "stream",
     "text": [
      "Random Search:  44%|████▍     | 22/50 [1:45:25<2:05:15, 268.43s/it]"
     ]
    },
    {
     "name": "stdout",
     "output_type": "stream",
     "text": [
      "[do  010] total=0.815651 (obs=1.396501, do=0.058700) | val_obs=0.057809\n",
      "[obs 010] obs=6.504765 | val_obs=0.454803\n",
      "[obs 020] obs=2.348128 | val_obs=0.876408\n",
      "[obs 030] obs=1.339169 | val_obs=0.886765\n",
      "[obs 040] obs=1.806510 | val_obs=0.820807\n",
      "[do  010] total=0.037078 (obs=0.124135, do=0.049329) | val_obs=0.098451\n",
      "[do  020] total=0.060611 (obs=0.165252, do=0.088171) | val_obs=0.025816\n"
     ]
    },
    {
     "name": "stderr",
     "output_type": "stream",
     "text": [
      "Random Search:  46%|████▌     | 23/50 [1:51:24<2:13:01, 295.63s/it]"
     ]
    },
    {
     "name": "stdout",
     "output_type": "stream",
     "text": [
      "[do  030] total=0.381053 (obs=1.912505, do=0.379606) | val_obs=0.077423\n",
      "[obs 010] obs=2.149055 | val_obs=0.679776\n",
      "[obs 020] obs=0.524696 | val_obs=0.091823\n",
      "[do  010] total=0.094675 (obs=0.181878, do=0.152975) | val_obs=0.040297\n"
     ]
    },
    {
     "name": "stderr",
     "output_type": "stream",
     "text": [
      "Random Search:  48%|████▊     | 24/50 [1:54:58<1:57:27, 271.08s/it]"
     ]
    },
    {
     "name": "stdout",
     "output_type": "stream",
     "text": [
      "[do  020] total=0.076580 (obs=0.145805, do=0.123999) | val_obs=0.103991\n",
      "[obs 010] obs=2.689853 | val_obs=2.079851\n",
      "[obs 020] obs=2.844215 | val_obs=0.150966\n",
      "[do  010] total=1.102916 (obs=0.643919, do=0.487066) | val_obs=0.618422\n",
      "[do  020] total=2.253098 (obs=0.917784, do=1.034770) | val_obs=0.157290\n"
     ]
    },
    {
     "name": "stderr",
     "output_type": "stream",
     "text": [
      "Random Search:  50%|█████     | 25/50 [2:00:21<1:59:27, 286.71s/it]"
     ]
    },
    {
     "name": "stdout",
     "output_type": "stream",
     "text": [
      "[do  030] total=1.403959 (obs=0.580130, do=0.643967) | val_obs=0.303074\n",
      "[obs 010] obs=4.360849 | val_obs=0.152658\n",
      "[obs 020] obs=2.746647 | val_obs=0.334588\n",
      "[do  010] total=1.476054 (obs=2.679604, do=0.068126) | val_obs=0.067896\n",
      "[do  020] total=1.408990 (obs=2.639210, do=0.044692) | val_obs=0.041196\n"
     ]
    },
    {
     "name": "stderr",
     "output_type": "stream",
     "text": [
      "Random Search:  52%|█████▏    | 26/50 [2:05:40<1:58:36, 296.52s/it]"
     ]
    },
    {
     "name": "stdout",
     "output_type": "stream",
     "text": [
      "[do  030] total=1.288649 (obs=2.421509, do=0.038947) | val_obs=0.020023\n",
      "New best @ trial 25: val=0.019411 cfg={'hidden_dim': np.int64(64), 'out_dim': np.int64(16), 'lr': np.float64(0.0001), 'weight_decay': np.float64(0.0001), 'epochs_obs': np.int64(20), 'epochs_do': np.int64(30), 'w_obs': np.float64(0.5), 'w_do': np.float64(2.0), 'clip': np.float64(0.5), 'neutral': np.str_('zeros'), 'delta': np.float64(1.0)}\n",
      "[obs 010] obs=5.247430 | val_obs=12.749146\n",
      "[obs 020] obs=6.522196 | val_obs=3.385939\n",
      "[obs 030] obs=0.914721 | val_obs=4.241569\n",
      "[obs 040] obs=0.868517 | val_obs=3.302991\n",
      "[obs 050] obs=0.955333 | val_obs=2.370070\n",
      "[obs 060] obs=2.698193 | val_obs=2.198301\n",
      "[do  010] total=1.604640 (obs=1.021717, do=0.751234) | val_obs=0.997817\n",
      "[do  020] total=1.196420 (obs=0.612608, do=0.567580) | val_obs=0.150944\n"
     ]
    },
    {
     "name": "stderr",
     "output_type": "stream",
     "text": [
      "Random Search:  54%|█████▍    | 27/50 [2:12:55<2:09:36, 338.13s/it]"
     ]
    },
    {
     "name": "stdout",
     "output_type": "stream",
     "text": [
      "[do  030] total=1.282506 (obs=0.595868, do=0.611459) | val_obs=0.065052\n",
      "[obs 010] obs=2.322415 | val_obs=0.980063\n",
      "[obs 020] obs=0.833229 | val_obs=0.330187\n"
     ]
    },
    {
     "name": "stderr",
     "output_type": "stream",
     "text": [
      "Random Search:  56%|█████▌    | 28/50 [2:15:25<1:43:13, 281.53s/it]"
     ]
    },
    {
     "name": "stdout",
     "output_type": "stream",
     "text": [
      "[do  010] total=0.518510 (obs=0.682800, do=0.763901) | val_obs=0.068924\n",
      "[obs 010] obs=6.110061 | val_obs=0.435184\n",
      "[obs 020] obs=5.086250 | val_obs=0.205906\n",
      "[obs 030] obs=4.416182 | val_obs=0.224317\n",
      "[obs 040] obs=3.947978 | val_obs=0.319489\n",
      "[do  010] total=1.864676 (obs=3.657420, do=0.071932) | val_obs=0.086964\n"
     ]
    },
    {
     "name": "stderr",
     "output_type": "stream",
     "text": [
      "Random Search:  58%|█████▊    | 29/50 [2:20:19<1:39:50, 285.28s/it]"
     ]
    },
    {
     "name": "stdout",
     "output_type": "stream",
     "text": [
      "[do  020] total=1.363851 (obs=2.679818, do=0.047885) | val_obs=0.232265\n",
      "[obs 010] obs=3.708000 | val_obs=0.195242\n",
      "[obs 020] obs=3.580666 | val_obs=0.247472\n",
      "[obs 030] obs=3.086072 | val_obs=0.299416\n",
      "[obs 040] obs=3.116873 | val_obs=0.108327\n",
      "[obs 050] obs=2.332431 | val_obs=0.118784\n",
      "[obs 060] obs=1.808297 | val_obs=1.098583\n"
     ]
    },
    {
     "name": "stderr",
     "output_type": "stream",
     "text": [
      "Random Search:  60%|██████    | 30/50 [2:24:52<1:33:52, 281.65s/it]"
     ]
    },
    {
     "name": "stdout",
     "output_type": "stream",
     "text": [
      "[do  010] total=0.237859 (obs=1.687934, do=0.034533) | val_obs=0.099995\n",
      "[obs 010] obs=15.021375 | val_obs=1.159190\n",
      "[obs 020] obs=9.159293 | val_obs=0.538479\n",
      "[obs 030] obs=7.752870 | val_obs=0.915439\n",
      "[obs 040] obs=7.970659 | val_obs=0.383955\n",
      "[obs 050] obs=5.870653 | val_obs=1.002176\n",
      "[obs 060] obs=4.688653 | val_obs=0.758418\n",
      "[do  010] total=3.292997 (obs=6.406982, do=0.179012) | val_obs=0.087906\n",
      "[do  020] total=2.205365 (obs=4.237445, do=0.173286) | val_obs=0.129261\n"
     ]
    },
    {
     "name": "stderr",
     "output_type": "stream",
     "text": [
      "Random Search:  62%|██████▏   | 31/50 [2:32:20<1:44:59, 331.53s/it]"
     ]
    },
    {
     "name": "stdout",
     "output_type": "stream",
     "text": [
      "[do  030] total=1.541614 (obs=2.982439, do=0.100790) | val_obs=0.198883\n",
      "[obs 010] obs=1.166615 | val_obs=1.080891\n",
      "[obs 020] obs=0.724988 | val_obs=0.540487\n",
      "[obs 030] obs=0.684723 | val_obs=0.166538\n",
      "[obs 040] obs=4.305410 | val_obs=0.159826\n"
     ]
    },
    {
     "name": "stderr",
     "output_type": "stream",
     "text": [
      "Random Search:  64%|██████▍   | 32/50 [2:35:48<1:28:21, 294.51s/it]"
     ]
    },
    {
     "name": "stdout",
     "output_type": "stream",
     "text": [
      "[do  010] total=1.096649 (obs=2.411504, do=0.614348) | val_obs=0.043332\n",
      "[obs 010] obs=6.942379 | val_obs=4.713513\n",
      "[obs 020] obs=1.721936 | val_obs=0.570372\n",
      "[do  010] total=2102.498398 (obs=2811.277416, do=348.429845) | val_obs=87.107359\n"
     ]
    },
    {
     "name": "stderr",
     "output_type": "stream",
     "text": [
      "Random Search:  66%|██████▌   | 33/50 [2:39:53<1:19:12, 279.56s/it]"
     ]
    },
    {
     "name": "stdout",
     "output_type": "stream",
     "text": [
      "[do  020] total=252.899597 (obs=90.285884, do=103.878328) | val_obs=83.893391\n",
      "[obs 010] obs=2.803566 | val_obs=1.350135\n",
      "[obs 020] obs=2.986195 | val_obs=1.896697\n",
      "[do  010] total=0.497615 (obs=0.670487, do=0.215283) | val_obs=0.037547\n",
      "[do  020] total=0.511275 (obs=2.234620, do=0.143906) | val_obs=0.069018\n"
     ]
    },
    {
     "name": "stderr",
     "output_type": "stream",
     "text": [
      "Random Search:  68%|██████▊   | 34/50 [2:45:18<1:18:13, 293.31s/it]"
     ]
    },
    {
     "name": "stdout",
     "output_type": "stream",
     "text": [
      "[do  030] total=0.404343 (obs=0.150161, do=0.194663) | val_obs=0.108399\n",
      "[obs 010] obs=14.296058 | val_obs=2.847534\n",
      "[obs 020] obs=23.387671 | val_obs=3.257536\n",
      "[obs 030] obs=11.086757 | val_obs=4.920394\n",
      "[obs 040] obs=2300.704081 | val_obs=2.878568\n",
      "[obs 050] obs=2.311142 | val_obs=0.993356\n",
      "[obs 060] obs=2.225600 | val_obs=0.393341\n",
      "[do  010] total=4.068864 (obs=2.821468, do=2.658130) | val_obs=0.481376\n"
     ]
    },
    {
     "name": "stderr",
     "output_type": "stream",
     "text": [
      "Random Search:  70%|███████   | 35/50 [2:51:24<1:18:45, 315.05s/it]"
     ]
    },
    {
     "name": "stdout",
     "output_type": "stream",
     "text": [
      "[do  020] total=26.784738 (obs=37.569606, do=7.999935) | val_obs=0.819474\n",
      "[obs 010] obs=12.068192 | val_obs=99.763885\n",
      "[obs 020] obs=0.900777 | val_obs=0.913282\n",
      "[obs 030] obs=1.406658 | val_obs=1.013112\n",
      "[obs 040] obs=0.992191 | val_obs=0.463600\n",
      "[do  010] total=61.020688 (obs=90.358840, do=103.969608) | val_obs=83.378970\n"
     ]
    },
    {
     "name": "stderr",
     "output_type": "stream",
     "text": [
      "Random Search:  72%|███████▏  | 36/50 [2:56:30<1:12:51, 312.23s/it]"
     ]
    },
    {
     "name": "stdout",
     "output_type": "stream",
     "text": [
      "[do  020] total=62.618853 (obs=93.104895, do=106.616727) | val_obs=87.038066\n",
      "[obs 010] obs=8.299298 | val_obs=3.671183\n",
      "[obs 020] obs=2.787089 | val_obs=8.700008\n",
      "[obs 030] obs=2.602818 | val_obs=10.360859\n",
      "[obs 040] obs=1.480232 | val_obs=6.772394\n",
      "[do  010] total=0.217389 (obs=0.890408, do=0.078614) | val_obs=0.271832\n",
      "[do  020] total=0.061538 (obs=0.092775, do=0.085967) | val_obs=0.218697\n"
     ]
    },
    {
     "name": "stderr",
     "output_type": "stream",
     "text": [
      "Random Search:  74%|███████▍  | 37/50 [3:02:37<1:11:12, 328.62s/it]"
     ]
    },
    {
     "name": "stdout",
     "output_type": "stream",
     "text": [
      "[do  030] total=0.423999 (obs=1.811881, do=0.123246) | val_obs=0.121796\n",
      "[obs 010] obs=2.662137 | val_obs=0.104879\n",
      "[obs 020] obs=1.208146 | val_obs=0.244041\n"
     ]
    },
    {
     "name": "stderr",
     "output_type": "stream",
     "text": [
      "Random Search:  76%|███████▌  | 38/50 [3:04:55<54:17, 271.45s/it]  "
     ]
    },
    {
     "name": "stdout",
     "output_type": "stream",
     "text": [
      "[do  010] total=0.672762 (obs=0.448488, do=0.313957) | val_obs=0.268581\n",
      "[obs 010] obs=24.118302 | val_obs=10.429114\n",
      "[obs 020] obs=13.868050 | val_obs=1.941946\n",
      "[obs 030] obs=7.761450 | val_obs=1.719781\n",
      "[obs 040] obs=6.100681 | val_obs=0.490990\n",
      "[do  010] total=3.053609 (obs=5.879631, do=0.113793) | val_obs=0.200995\n"
     ]
    },
    {
     "name": "stderr",
     "output_type": "stream",
     "text": [
      "Random Search:  78%|███████▊  | 39/50 [3:45:59<2:50:24, 929.47s/it]"
     ]
    },
    {
     "name": "stdout",
     "output_type": "stream",
     "text": [
      "[do  020] total=2.361239 (obs=4.517402, do=0.102538) | val_obs=0.200537\n",
      "[obs 010] obs=4.454070 | val_obs=0.687079\n",
      "[obs 020] obs=0.622345 | val_obs=0.112530\n"
     ]
    },
    {
     "name": "stderr",
     "output_type": "stream",
     "text": [
      "Random Search:  80%|████████  | 40/50 [3:48:28<1:55:50, 695.08s/it]"
     ]
    },
    {
     "name": "stdout",
     "output_type": "stream",
     "text": [
      "[do  010] total=0.423432 (obs=0.204067, do=0.160699) | val_obs=0.050592\n",
      "[obs 010] obs=4.973053 | val_obs=0.730401\n",
      "[obs 020] obs=1.518954 | val_obs=0.322250\n",
      "[obs 030] obs=0.296200 | val_obs=0.211645\n",
      "[obs 040] obs=0.124345 | val_obs=0.039051\n",
      "[do  010] total=0.356809 (obs=0.140261, do=0.143339) | val_obs=0.108149\n",
      "[do  020] total=0.292774 (obs=0.129277, do=0.114068) | val_obs=0.211951\n"
     ]
    },
    {
     "name": "stderr",
     "output_type": "stream",
     "text": [
      "Random Search:  82%|████████▏ | 41/50 [3:55:00<1:30:38, 604.30s/it]"
     ]
    },
    {
     "name": "stdout",
     "output_type": "stream",
     "text": [
      "[do  030] total=0.391253 (obs=0.203518, do=0.144747) | val_obs=0.625387\n",
      "[obs 010] obs=4.666082 | val_obs=0.722318\n",
      "[obs 020] obs=3.853028 | val_obs=0.243512\n",
      "[do  010] total=0.715107 (obs=3.161840, do=0.041369) | val_obs=0.033367\n"
     ]
    },
    {
     "name": "stderr",
     "output_type": "stream",
     "text": [
      "Random Search:  84%|████████▍ | 42/50 [3:58:39<1:05:09, 488.69s/it]"
     ]
    },
    {
     "name": "stdout",
     "output_type": "stream",
     "text": [
      "[do  020] total=0.693052 (obs=3.206089, do=0.025917) | val_obs=0.071963\n",
      "[obs 010] obs=13.558631 | val_obs=0.969867\n",
      "[obs 020] obs=9.419383 | val_obs=1.154913\n",
      "[obs 030] obs=6.642814 | val_obs=0.928504\n",
      "[obs 040] obs=5.611751 | val_obs=0.838954\n",
      "[obs 050] obs=4.009983 | val_obs=2.435778\n",
      "[obs 060] obs=3.315816 | val_obs=2.201157\n",
      "[do  010] total=0.558355 (obs=5.191108, do=0.039244) | val_obs=0.048897\n",
      "[do  020] total=0.379250 (obs=3.380986, do=0.041151) | val_obs=0.095493\n"
     ]
    },
    {
     "name": "stderr",
     "output_type": "stream",
     "text": [
      "Random Search:  86%|████████▌ | 43/50 [4:05:44<54:47, 469.65s/it]  "
     ]
    },
    {
     "name": "stdout",
     "output_type": "stream",
     "text": [
      "[do  030] total=0.347916 (obs=3.053755, do=0.042541) | val_obs=0.122738\n",
      "[obs 010] obs=2.186017 | val_obs=0.473647\n",
      "[obs 020] obs=1.840266 | val_obs=0.045131\n",
      "[obs 030] obs=0.550387 | val_obs=0.481474\n",
      "[obs 040] obs=0.600868 | val_obs=0.152900\n",
      "[obs 050] obs=0.349222 | val_obs=0.384817\n",
      "[obs 060] obs=0.137111 | val_obs=0.178419\n"
     ]
    },
    {
     "name": "stderr",
     "output_type": "stream",
     "text": [
      "Random Search:  88%|████████▊ | 44/50 [4:09:54<40:22, 403.77s/it]"
     ]
    },
    {
     "name": "stdout",
     "output_type": "stream",
     "text": [
      "[do  010] total=0.137949 (obs=0.115416, do=0.080241) | val_obs=0.060004\n",
      "[obs 010] obs=5.918193 | val_obs=0.266966\n",
      "[obs 020] obs=3.913431 | val_obs=4.676020\n",
      "[obs 030] obs=1.897006 | val_obs=10.036315\n",
      "[obs 040] obs=1.421488 | val_obs=11.781649\n"
     ]
    },
    {
     "name": "stderr",
     "output_type": "stream",
     "text": [
      "Random Search:  90%|█████████ | 45/50 [4:13:27<28:51, 346.39s/it]"
     ]
    },
    {
     "name": "stdout",
     "output_type": "stream",
     "text": [
      "[do  010] total=0.132701 (obs=0.395458, do=0.093155) | val_obs=3.007373\n",
      "[obs 010] obs=4.791967 | val_obs=0.196388\n",
      "[obs 020] obs=2.532963 | val_obs=0.170052\n",
      "[obs 030] obs=2.479481 | val_obs=0.274242\n",
      "[obs 040] obs=10.161442 | val_obs=8.063579\n",
      "[do  010] total=1.367876 (obs=3.910072, do=0.292931) | val_obs=0.101818\n"
     ]
    },
    {
     "name": "stderr",
     "output_type": "stream",
     "text": [
      "Random Search:  92%|█████████▏| 46/50 [4:18:18<21:59, 329.92s/it]"
     ]
    },
    {
     "name": "stdout",
     "output_type": "stream",
     "text": [
      "[do  020] total=0.858861 (obs=1.780881, do=0.251342) | val_obs=0.150315\n",
      "[obs 010] obs=2.592001 | val_obs=1.234833\n",
      "[obs 020] obs=0.463260 | val_obs=0.100451\n",
      "[do  010] total=0.390049 (obs=0.151850, do=0.157062) | val_obs=0.192941\n"
     ]
    },
    {
     "name": "stderr",
     "output_type": "stream",
     "text": [
      "Random Search:  94%|█████████▍| 47/50 [4:22:23<15:13, 304.44s/it]"
     ]
    },
    {
     "name": "stdout",
     "output_type": "stream",
     "text": [
      "[do  020] total=0.735628 (obs=0.382548, do=0.272177) | val_obs=0.335793\n",
      "[obs 010] obs=3.751611 | val_obs=1.092628\n",
      "[obs 020] obs=1.191294 | val_obs=0.254987\n",
      "[obs 030] obs=0.432572 | val_obs=0.277899\n",
      "[obs 040] obs=0.338085 | val_obs=0.046767\n",
      "[obs 050] obs=0.210504 | val_obs=0.072689\n",
      "[obs 060] obs=0.138376 | val_obs=0.098289\n"
     ]
    },
    {
     "name": "stderr",
     "output_type": "stream",
     "text": [
      "Random Search:  96%|█████████▌| 48/50 [4:26:57<09:50, 295.34s/it]"
     ]
    },
    {
     "name": "stdout",
     "output_type": "stream",
     "text": [
      "[do  010] total=0.159425 (obs=0.484023, do=0.222046) | val_obs=0.048501\n",
      "[obs 010] obs=3.694740 | val_obs=3.194367\n",
      "[obs 020] obs=1.006956 | val_obs=0.548842\n",
      "[obs 030] obs=0.787848 | val_obs=0.339020\n",
      "[obs 040] obs=0.627343 | val_obs=0.117998\n",
      "[do  010] total=1.427674 (obs=0.595244, do=0.565026) | val_obs=0.050108\n"
     ]
    },
    {
     "name": "stderr",
     "output_type": "stream",
     "text": [
      "Random Search:  98%|█████████▊| 49/50 [4:35:59<06:09, 369.12s/it]"
     ]
    },
    {
     "name": "stdout",
     "output_type": "stream",
     "text": [
      "[do  020] total=1.615781 (obs=0.599246, do=0.658079) | val_obs=0.057325\n",
      "[obs 010] obs=2.879991 | val_obs=2.188735\n",
      "[obs 020] obs=4.725070 | val_obs=0.776976\n",
      "[do  010] total=0.665708 (obs=1.071479, do=1.117119) | val_obs=0.100529\n",
      "[do  020] total=0.809548 (obs=3.340059, do=0.951085) | val_obs=0.130331\n"
     ]
    },
    {
     "name": "stderr",
     "output_type": "stream",
     "text": [
      "Random Search: 100%|██████████| 50/50 [4:41:00<00:00, 337.20s/it]"
     ]
    },
    {
     "name": "stdout",
     "output_type": "stream",
     "text": [
      "[do  030] total=0.613065 (obs=0.976040, do=1.030923) | val_obs=1.706650\n",
      "\n",
      "--- Hyperparameter Tuning Complete ---\n",
      "Best validation loss: 0.019411\n",
      "Best hyperparameters:\n"
     ]
    },
    {
     "name": "stderr",
     "output_type": "stream",
     "text": [
      "\n"
     ]
    },
    {
     "ename": "KeyError",
     "evalue": "'params'",
     "output_type": "error",
     "traceback": [
      "\u001b[31m---------------------------------------------------------------------------\u001b[39m",
      "\u001b[31mKeyError\u001b[39m                                  Traceback (most recent call last)",
      "\u001b[36mCell\u001b[39m\u001b[36m \u001b[39m\u001b[32mIn[184]\u001b[39m\u001b[32m, line 2\u001b[39m\n\u001b[32m      1\u001b[39m \u001b[38;5;66;03m# Run the tuning process\u001b[39;00m\n\u001b[32m----> \u001b[39m\u001b[32m2\u001b[39m best, results = \u001b[43mtune_hyperparameters_random\u001b[49m\u001b[43m(\u001b[49m\u001b[43mfull_dataset\u001b[49m\u001b[43m,\u001b[49m\u001b[43m \u001b[49m\u001b[43mn_trials\u001b[49m\u001b[43m=\u001b[49m\u001b[32;43m50\u001b[39;49m\u001b[43m,\u001b[49m\u001b[43m \u001b[49m\u001b[43mseed\u001b[49m\u001b[43m=\u001b[49m\u001b[32;43m123\u001b[39;49m\u001b[43m)\u001b[49m  \n",
      "\u001b[36mCell\u001b[39m\u001b[36m \u001b[39m\u001b[32mIn[183]\u001b[39m\u001b[32m, line 128\u001b[39m, in \u001b[36mtune_hyperparameters_random\u001b[39m\u001b[34m(dataset, n_trials, seed, val_node_key)\u001b[39m\n\u001b[32m    113\u001b[39m \u001b[38;5;28mprint\u001b[39m(\u001b[33mf\u001b[39m\u001b[33m\"\u001b[39m\u001b[33mBest validation loss: \u001b[39m\u001b[38;5;132;01m{\u001b[39;00mbest[\u001b[33m'\u001b[39m\u001b[33mval\u001b[39m\u001b[33m'\u001b[39m]\u001b[38;5;132;01m:\u001b[39;00m\u001b[33m.6f\u001b[39m\u001b[38;5;132;01m}\u001b[39;00m\u001b[33m\"\u001b[39m)\n\u001b[32m    114\u001b[39m \u001b[38;5;28mprint\u001b[39m(\u001b[33m\"\u001b[39m\u001b[33mBest hyperparameters:\u001b[39m\u001b[33m\"\u001b[39m)\n\u001b[32m    116\u001b[39m best_cfg = {\n\u001b[32m    117\u001b[39m     \u001b[33m\"\u001b[39m\u001b[33mexperiment_name\u001b[39m\u001b[33m\"\u001b[39m: \u001b[33m\"\u001b[39m\u001b[33mGNN_NCM_TwoPart_VOL\u001b[39m\u001b[33m\"\u001b[39m,\n\u001b[32m    118\u001b[39m     \u001b[33m\"\u001b[39m\u001b[33mseed\u001b[39m\u001b[33m\"\u001b[39m: seed,\n\u001b[32m    119\u001b[39m     \u001b[33m\"\u001b[39m\u001b[33mdevice\u001b[39m\u001b[33m\"\u001b[39m: \u001b[33m\"\u001b[39m\u001b[33mcuda\u001b[39m\u001b[33m\"\u001b[39m,\n\u001b[32m    120\u001b[39m     \u001b[33m\"\u001b[39m\u001b[33mdata\u001b[39m\u001b[33m\"\u001b[39m: {\n\u001b[32m    121\u001b[39m         \u001b[33m\"\u001b[39m\u001b[33mdata_dir\u001b[39m\u001b[33m\"\u001b[39m: PROCCESSED_DATA_DIR,\n\u001b[32m    122\u001b[39m         \u001b[33m\"\u001b[39m\u001b[33mtarget_node\u001b[39m\u001b[33m\"\u001b[39m: \u001b[33m\"\u001b[39m\u001b[33mVOL\u001b[39m\u001b[33m\"\u001b[39m,\n\u001b[32m    123\u001b[39m         \u001b[33m\"\u001b[39m\u001b[33mbatch_size\u001b[39m\u001b[33m\"\u001b[39m: \u001b[32m1\u001b[39m,\n\u001b[32m    124\u001b[39m     },\n\u001b[32m    125\u001b[39m     \u001b[33m\"\u001b[39m\u001b[33mmodel\u001b[39m\u001b[33m\"\u001b[39m: {\n\u001b[32m    126\u001b[39m         \u001b[33m\"\u001b[39m\u001b[33mname\u001b[39m\u001b[33m\"\u001b[39m: \u001b[33m\"\u001b[39m\u001b[33mGNN_NCM\u001b[39m\u001b[33m\"\u001b[39m,\n\u001b[32m    127\u001b[39m         \u001b[33m\"\u001b[39m\u001b[33mgnn_mode\u001b[39m\u001b[33m\"\u001b[39m: \u001b[33m\"\u001b[39m\u001b[33mper_edge\u001b[39m\u001b[33m\"\u001b[39m,\n\u001b[32m--> \u001b[39m\u001b[32m128\u001b[39m         \u001b[33m\"\u001b[39m\u001b[33mhidden_dim\u001b[39m\u001b[33m\"\u001b[39m: \u001b[38;5;28mint\u001b[39m(\u001b[43mbest\u001b[49m\u001b[43m[\u001b[49m\u001b[33;43m\"\u001b[39;49m\u001b[33;43mparams\u001b[39;49m\u001b[33;43m\"\u001b[39;49m\u001b[43m]\u001b[49m[\u001b[33m\"\u001b[39m\u001b[33mhidden_dim\u001b[39m\u001b[33m\"\u001b[39m]),\n\u001b[32m    129\u001b[39m         \u001b[33m\"\u001b[39m\u001b[33mout_dim\u001b[39m\u001b[33m\"\u001b[39m: \u001b[38;5;28mint\u001b[39m(best[\u001b[33m\"\u001b[39m\u001b[33mparams\u001b[39m\u001b[33m\"\u001b[39m][\u001b[33m\"\u001b[39m\u001b[33mout_dim\u001b[39m\u001b[33m\"\u001b[39m]),\n\u001b[32m    130\u001b[39m         \u001b[33m\"\u001b[39m\u001b[33mnoise_dim\u001b[39m\u001b[33m\"\u001b[39m: \u001b[32m4\u001b[39m,\n\u001b[32m    131\u001b[39m     },\n\u001b[32m    132\u001b[39m     \u001b[33m\"\u001b[39m\u001b[33mtraining\u001b[39m\u001b[33m\"\u001b[39m: {\n\u001b[32m    133\u001b[39m         \u001b[33m\"\u001b[39m\u001b[33mtype\u001b[39m\u001b[33m\"\u001b[39m: \u001b[33m\"\u001b[39m\u001b[33mCausalTwoPartTrainer\u001b[39m\u001b[33m\"\u001b[39m,\n\u001b[32m    134\u001b[39m         \u001b[33m\"\u001b[39m\u001b[33mepochs_obs\u001b[39m\u001b[33m\"\u001b[39m: \u001b[38;5;28mint\u001b[39m(best[\u001b[33m\"\u001b[39m\u001b[33mparams\u001b[39m\u001b[33m\"\u001b[39m][\u001b[33m\"\u001b[39m\u001b[33mepochs_obs\u001b[39m\u001b[33m\"\u001b[39m]),\n\u001b[32m    135\u001b[39m         \u001b[33m\"\u001b[39m\u001b[33mepochs_do\u001b[39m\u001b[33m\"\u001b[39m:  \u001b[38;5;28mint\u001b[39m(best[\u001b[33m\"\u001b[39m\u001b[33mparams\u001b[39m\u001b[33m\"\u001b[39m][\u001b[33m\"\u001b[39m\u001b[33mepochs_do\u001b[39m\u001b[33m\"\u001b[39m]),\n\u001b[32m    136\u001b[39m         \u001b[33m\"\u001b[39m\u001b[33mlr\u001b[39m\u001b[33m\"\u001b[39m: \u001b[38;5;28mfloat\u001b[39m(best[\u001b[33m\"\u001b[39m\u001b[33mparams\u001b[39m\u001b[33m\"\u001b[39m][\u001b[33m\"\u001b[39m\u001b[33mlr\u001b[39m\u001b[33m\"\u001b[39m]),\n\u001b[32m    137\u001b[39m         \u001b[33m\"\u001b[39m\u001b[33mweight_decay\u001b[39m\u001b[33m\"\u001b[39m: \u001b[38;5;28mfloat\u001b[39m(best[\u001b[33m\"\u001b[39m\u001b[33mparams\u001b[39m\u001b[33m\"\u001b[39m][\u001b[33m\"\u001b[39m\u001b[33mweight_decay\u001b[39m\u001b[33m\"\u001b[39m]),\n\u001b[32m    138\u001b[39m         \u001b[33m\"\u001b[39m\u001b[33mclip\u001b[39m\u001b[33m\"\u001b[39m: \u001b[38;5;28mfloat\u001b[39m(best[\u001b[33m\"\u001b[39m\u001b[33mparams\u001b[39m\u001b[33m\"\u001b[39m][\u001b[33m\"\u001b[39m\u001b[33mclip\u001b[39m\u001b[33m\"\u001b[39m]),\n\u001b[32m    139\u001b[39m         \u001b[33m\"\u001b[39m\u001b[33mw_obs\u001b[39m\u001b[33m\"\u001b[39m: \u001b[38;5;28mfloat\u001b[39m(best[\u001b[33m\"\u001b[39m\u001b[33mparams\u001b[39m\u001b[33m\"\u001b[39m][\u001b[33m\"\u001b[39m\u001b[33mw_obs\u001b[39m\u001b[33m\"\u001b[39m]),\n\u001b[32m    140\u001b[39m         \u001b[33m\"\u001b[39m\u001b[33mw_do\u001b[39m\u001b[33m\"\u001b[39m:  \u001b[38;5;28mfloat\u001b[39m(best[\u001b[33m\"\u001b[39m\u001b[33mparams\u001b[39m\u001b[33m\"\u001b[39m][\u001b[33m\"\u001b[39m\u001b[33mw_do\u001b[39m\u001b[33m\"\u001b[39m]),\n\u001b[32m    141\u001b[39m         \u001b[33m\"\u001b[39m\u001b[33mneutral\u001b[39m\u001b[33m\"\u001b[39m: \u001b[38;5;28mstr\u001b[39m(best[\u001b[33m\"\u001b[39m\u001b[33mparams\u001b[39m\u001b[33m\"\u001b[39m][\u001b[33m\"\u001b[39m\u001b[33mneutral\u001b[39m\u001b[33m\"\u001b[39m]),\n\u001b[32m    142\u001b[39m         \u001b[33m\"\u001b[39m\u001b[33mdelta\u001b[39m\u001b[33m\"\u001b[39m: \u001b[38;5;28mfloat\u001b[39m(best[\u001b[33m\"\u001b[39m\u001b[33mparams\u001b[39m\u001b[33m\"\u001b[39m][\u001b[33m\"\u001b[39m\u001b[33mdelta\u001b[39m\u001b[33m\"\u001b[39m]),\n\u001b[32m    143\u001b[39m     },\n\u001b[32m    144\u001b[39m     \u001b[33m\"\u001b[39m\u001b[33moutput\u001b[39m\u001b[33m\"\u001b[39m: {\u001b[33m\"\u001b[39m\u001b[33moutput_dir\u001b[39m\u001b[33m\"\u001b[39m: \u001b[33m\"\u001b[39m\u001b[33moutputs\u001b[39m\u001b[33m\"\u001b[39m},\n\u001b[32m    145\u001b[39m }\n\u001b[32m    148\u001b[39m \u001b[38;5;28;01mreturn\u001b[39;00m best_cfg, results\n",
      "\u001b[31mKeyError\u001b[39m: 'params'"
     ]
    }
   ],
   "source": [
    "# Run the tuning process\n",
    "best, results = tune_hyperparameters_random(full_dataset, n_trials=50, seed=123)  \n"
   ]
  },
  {
   "cell_type": "code",
   "execution_count": null,
   "id": "f3bf5f0e",
   "metadata": {},
   "outputs": [],
   "source": [
    "# Save the final config file\n",
    "# Ensure the configs directory exists\n",
    "\n",
    "from pathlib import Path\n",
    "import sys\n",
    "\n",
    "PROJECT_ROOT = Path().resolve().parent\n",
    "if str(PROJECT_ROOT) not in sys.path:\n",
    "    sys.path.insert(0, str(PROJECT_ROOT))  \n",
    "\n",
    "os.makedirs('configs', exist_ok=True)\n",
    "\n",
    "with open('configs/best_config.yaml', 'w') as f:\n",
    "    yaml.dump(best, f, indent=2, sort_keys=False)"
   ]
  },
  {
   "cell_type": "markdown",
   "id": "c6115b9a",
   "metadata": {},
   "source": [
    "New best @ trial 25: val=0.019411 cfg={'hidden_dim': np.int64(64), 'out_dim': np.int64(16), 'lr': np.float64(0.0001), 'weight_decay': np.float64(0.0001), 'epochs_obs': np.int64(20), 'epochs_do': np.int64(30), 'w_obs': np.float64(0.5), 'w_do': np.float64(2.0), 'clip': np.float64(0.5), 'neutral': np.str_('zeros'), 'delta': np.float64(1.0)}\n"
   ]
  }
 ],
 "metadata": {
  "kernelspec": {
   "display_name": "ai_project",
   "language": "python",
   "name": "python3"
  },
  "language_info": {
   "codemirror_mode": {
    "name": "ipython",
    "version": 3
   },
   "file_extension": ".py",
   "mimetype": "text/x-python",
   "name": "python",
   "nbconvert_exporter": "python",
   "pygments_lexer": "ipython3",
   "version": "3.12.10"
  }
 },
 "nbformat": 4,
 "nbformat_minor": 5
}
