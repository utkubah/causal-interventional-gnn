{
 "cells": [
  {
   "cell_type": "markdown",
   "id": "98158bb4",
   "metadata": {},
   "source": [
    "# Notebook 1: Data Preprocessing and Causal Graph Construction\n",
    "\n",
    "### Goal\n",
    "The purpose of this notebook is to load the raw financial data, perform necessary cleaning and feature engineering, and define the causal graph structure that will be used in our experiments. The final output will be a set of processed `.csv` files that our PyTorch Geometric `Dataset` can easily ingest.\n",
    "\n",
    "### Steps\n",
    "1.  **Load Raw Data:** Load asset returns, factor returns, and macro data from their source files.\n",
    "2.  **Define the Causal Graph:**\n",
    "    *   This is a critical modeling step. We will define the `edge_index` based on domain knowledge.\n",
    "    *   Example structure:\n",
    "        *   Edges from Macro nodes -> Factor nodes.\n",
    "        *   Edges from Factor nodes -> Asset nodes.\n",
    "        *   Edges between Asset nodes based on GICS sector membership.\n",
    "3.  **Save Processed Data:** Save the final node feature time-series and the static edge list to the `data/processed/` directory."
   ]
  }
 ],
 "metadata": {
  "language_info": {
   "name": "python"
  }
 },
 "nbformat": 4,
 "nbformat_minor": 5
}
