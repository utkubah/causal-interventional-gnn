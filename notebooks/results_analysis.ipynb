{
 "cells": [
  {
   "cell_type": "markdown",
   "id": "e30b6139",
   "metadata": {},
   "source": [
    "# Notebook 3: Analysis of Experimental Results\n",
    "\n",
    "### Goal\n",
    "This notebook is for analyzing the outputs of our experiments. We will load the saved model checkpoints and results files from the `outputs/` directory to generate the key tables and figures for the thesis.\n",
    "\n",
    "### Steps\n",
    "1.  **Load Results:** Load the `.csv` files containing the performance metrics for all experimental runs (e.g., our GNN-NCM, a baseline GCN).\n",
    "2.  **Overall Performance Comparison:** Create a table comparing the overall predictive accuracy (e.g., RMSE, MAE) of all models on the full test set.\n",
    "3.  **Robustness Under Intervention (The Key Figure):**\n",
    "    *   Define \"stable\" and \"shock\" periods based on our list of historical events.\n",
    "    *   Calculate the performance of each model separately for these two periods.\n",
    "    *   Create a bar chart showing the **performance degradation** (e.g., percentage increase in RMSE) for each model during the shock period. This is the primary evidence for our thesis statement.\n",
    "4.  **Case Study: A Single Intervention:**\n",
    "    *   Load our trained `GNN-NCM`.\n",
    "    *   Select a significant historical event (e.g., a major interest rate hike).\n",
    "    *   Perform a `do_intervention` on the corresponding macro node.\n",
    "    *   Analyze and interpret the predicted downstream effects on different sectors, comparing them to economic theory.\n",
    "5.  **Conclusion:** Summarize the findings and articulate the final conclusions for the thesis."
   ]
  },
  {
   "cell_type": "code",
   "execution_count": 2,
   "id": "2fa2690b",
   "metadata": {},
   "outputs": [
    {
     "name": "stdout",
     "output_type": "stream",
     "text": [
      "PROJECT_ROOT: C:\\Users\\asus\\OneDrive\\Desktop\\thesis\n",
      "DATA_DIR: C:\\Users\\asus\\OneDrive\\Desktop\\thesis\\data\\processed\n",
      "OUTPUTS_DIR: C:\\Users\\asus\\OneDrive\\Desktop\\thesis\\outputs\n"
     ]
    }
   ],
   "source": [
    "# lightweight, minimal imports\n",
    "import os, json, yaml, glob, math, random, time, sys\n",
    "import torch, torch.nn as nn, torch.nn.functional as F\n",
    "import pandas as pd\n",
    "import numpy as np\n",
    "import matplotlib.pyplot as plt\n",
    "\n",
    "from pathlib import Path\n",
    "from torch_geometric.loader import DataLoader\n",
    "from torch.utils.data import Subset\n",
    "\n",
    "PROJECT_ROOT = Path().resolve().parent\n",
    "if str(PROJECT_ROOT) not in sys.path:\n",
    "    sys.path.insert(0, str(PROJECT_ROOT))  \n",
    "    \n",
    "DATA_DIR = PROJECT_ROOT / \"data\" / \"processed\"\n",
    "CONFIGS_DIR = PROJECT_ROOT / \"configs\"\n",
    "OUTPUTS_DIR = PROJECT_ROOT / \"outputs\"\n",
    "\n",
    "# local project imports\n",
    "from src.models import GNN_NCM, BaselineGCN, TeacherGNN\n",
    "from src.dataloader import CausalFactorDataset\n",
    "from src.trainer import HybridCausalTrainer  \n",
    "\n",
    "plt.rcParams[\"figure.figsize\"] = (10,6)\n",
    "plt.rcParams[\"axes.grid\"] = True\n",
    "\n",
    "print(\"PROJECT_ROOT:\", PROJECT_ROOT)\n",
    "print(\"DATA_DIR:\", DATA_DIR)\n",
    "print(\"OUTPUTS_DIR:\", OUTPUTS_DIR)\n"
   ]
  },
  {
   "cell_type": "markdown",
   "id": "caeb35b2",
   "metadata": {},
   "source": [
    "### Load Best Parameters"
   ]
  },
  {
   "cell_type": "code",
   "execution_count": 3,
   "id": "22feb879",
   "metadata": {},
   "outputs": [
    {
     "name": "stdout",
     "output_type": "stream",
     "text": [
      "Device: cuda\n"
     ]
    }
   ],
   "source": [
    "# try to load best config; fallback to defaults\n",
    "cfg_path = CONFIGS_DIR / \"best_config.yaml\"\n",
    "if cfg_path.exists():\n",
    "    with open(cfg_path, \"r\") as f:\n",
    "        cfg = yaml.safe_load(f)\n",
    "else:\n",
    "    cfg = {\n",
    "        \"experiment_name\": \"GNN_NCM_Tuned_Run\",\n",
    "        \"seed\": 42,\n",
    "        \"device\": \"cuda\" if torch.cuda.is_available() else \"cpu\",\n",
    "        \"data\": {\n",
    "            \"data_dir\": str(DATA_DIR),\n",
    "            \"target_nodes\": [\"VOL\"],\n",
    "        },\n",
    "        \"model\": {\n",
    "            \"name\": \"GNN_NCM\",\n",
    "            \"gnn_mode\": \"per_edge\",\n",
    "            \"hidden_dim\": 32,\n",
    "            \"out_dim\": 16,\n",
    "            \"noise_dim\": 4,\n",
    "        },\n",
    "        \"training\": {\n",
    "            \"type\": \"HybridCausalTrainer\",\n",
    "            \"epochs\": 50,\n",
    "            \"lr\": 0.01,\n",
    "            \"gamma\": 0.5,\n",
    "            \"batch_size\": 1,\n",
    "        },\n",
    "        \"output\": { \"output_dir\": str(OUTPUTS_DIR) }\n",
    "    }\n",
    "\n",
    "cfg_device = cfg.get(\"device\", \"cuda\" if torch.cuda.is_available() else \"cpu\")\n",
    "device = torch.device(cfg_device if torch.cuda.is_available() or \"cpu\" in cfg_device else \"cpu\")\n",
    "print(\"Device:\", device)\n"
   ]
  },
  {
   "cell_type": "markdown",
   "id": "69c77092",
   "metadata": {},
   "source": [
    "### Datasets"
   ]
  },
  {
   "cell_type": "code",
   "execution_count": 4,
   "id": "61bb5965",
   "metadata": {},
   "outputs": [
    {
     "name": "stdout",
     "output_type": "stream",
     "text": [
      "num_features: 1 | num_edges: 8 | num_nodes: 7\n",
      "dates: train = 183 , val = 46\n"
     ]
    },
    {
     "name": "stderr",
     "output_type": "stream",
     "text": [
      "C:\\Users\\asus\\OneDrive\\Desktop\\thesis\\src\\dataloader.py:43: UserWarning: Creating a tensor from a list of numpy.ndarrays is extremely slow. Please consider converting the list to a single numpy.ndarray with numpy.array() before converting to a tensor. (Triggered internally at C:\\cb\\pytorch_1000000000000\\work\\torch\\csrc\\utils\\tensor_new.cpp:281.)\n",
      "  self.edge_index = torch.tensor([es, ed], dtype=torch.long)\n"
     ]
    }
   ],
   "source": [
    "# dataset\n",
    "ds = CausalFactorDataset(\n",
    "    root_dir=str(DATA_DIR),\n",
    "    target_node=\"VOL\",\n",
    "    feature_col=None,              # auto-detect the single numeric column\n",
    "    drop_self_for_target=True,     # avoid leakage\n",
    ")\n",
    "\n",
    "# train/val split\n",
    "split = int(0.8 * len(ds))\n",
    "idx_train = list(range(split))\n",
    "idx_val   = list(range(split, len(ds)))\n",
    "\n",
    "train_loader = DataLoader(Subset(ds, idx_train), batch_size=cfg[\"training\"].get(\"batch_size\", 1), shuffle=True)\n",
    "val_loader   = DataLoader(Subset(ds, idx_val),   batch_size=1, shuffle=False)\n",
    "\n",
    "# dims\n",
    "g0 = next(iter(train_loader))\n",
    "num_features = g0.num_node_features\n",
    "num_edges = g0.edge_index.size(1)\n",
    "\n",
    "print(\"num_features:\", num_features, \"| num_edges:\", num_edges, \"| num_nodes:\", g0.num_nodes)\n",
    "print(\"dates: train =\", len(idx_train), \", val =\", len(idx_val))\n"
   ]
  },
  {
   "cell_type": "markdown",
   "id": "1093b1ae",
   "metadata": {},
   "source": [
    "## Initializing the Model and Training (if not loaded)"
   ]
  },
  {
   "cell_type": "code",
   "execution_count": 5,
   "id": "a19145c4",
   "metadata": {},
   "outputs": [],
   "source": [
    "model_params = cfg[\"model\"]\n",
    "model = GNN_NCM(\n",
    "    num_features=num_features,\n",
    "    num_edges=num_edges,\n",
    "    gnn_mode=model_params.get(\"gnn_mode\", \"per_edge\"),\n",
    "    hidden_dim=model_params.get(\"hidden_dim\", 32),\n",
    "    out_dim=model_params.get(\"out_dim\", 16),\n",
    "    noise_dim=model_params.get(\"noise_dim\", 4),\n",
    ").to(device)\n",
    "\n",
    "# optional baseline for comparison later\n",
    "# baseline = BaselineGCN(num_features=num_features,\n",
    "#                        hidden_dim=model_params.get(\"hidden_dim\", 32),\n",
    "#                        out_dim=model_params.get(\"out_dim\", 16)).to(device)\n"
   ]
  },
  {
   "cell_type": "code",
   "execution_count": null,
   "id": "b67dc98f",
   "metadata": {},
   "outputs": [],
   "source": [
    "class HybridCausalTrainerLogged(HybridCausalTrainer):\n",
    "    def __init__(self, epochs=200, lr=0.01, gamma=0.5):\n",
    "        super().__init__(epochs, lr, gamma)\n",
    "        self.history = []\n",
    "        self._val_loader = None\n",
    "\n",
    "    def set_validation_loader(self, val_loader):\n",
    "        self._val_loader = val_loader\n",
    "\n",
    "    def train(self, model_to_train, data_or_loader):\n",
    "        # duck-typing: any iterable without .x is treated as loader\n",
    "        is_loader = hasattr(data_or_loader, \"__iter__\") and not hasattr(data_or_loader, \"x\")\n",
    "        if is_loader: return self._train_over_loader(model_to_train, data_or_loader)\n",
    "        return self._train_on_graph(model_to_train, data_or_loader)\n",
    "\n",
    "    @torch.no_grad()\n",
    "    def _val_mse_epoch(self, model):\n",
    "        if self._val_loader is None: return None\n",
    "        loss = nn.MSELoss(); tot=0.0; n=0\n",
    "        for g in self._val_loader:\n",
    "            g = g.to(next(model.parameters()).device)\n",
    "            p = model(g.x, g.edge_index)\n",
    "            tot += loss(p, g.y).item(); n += 1\n",
    "        return tot/max(n,1)\n",
    "\n",
    "    def _log_row(self, ep, obs, cau, tot, val):\n",
    "        self.history.append({\n",
    "            \"epoch\": int(ep),\n",
    "            \"loss_obs\": float(obs),\n",
    "            \"loss_causal\": float(cau),\n",
    "            \"loss_total\": float(tot),\n",
    "            \"val_mse\": None if val is None else float(val)\n",
    "        })\n",
    "\n",
    "    # single-graph path (unchanged except logging)\n",
    "    def _train_on_graph(self, model_to_train, g):\n",
    "        device = g.x.device\n",
    "        model_to_train = model_to_train.to(device)\n",
    "        opt = torch.optim.Adam(model_to_train.parameters(), lr=self.lr)\n",
    "\n",
    "        teacher = TeacherGNN(g.x.size(-1), 16, 8).to(device)\n",
    "        opt_t = torch.optim.Adam(teacher.parameters(), lr=0.01)\n",
    "        for _ in range(100):\n",
    "            opt_t.zero_grad()\n",
    "            lt = F.mse_loss(teacher(g.x, g.edge_index), g.y)\n",
    "            lt.backward(); opt_t.step()\n",
    "        teacher.eval()\n",
    "\n",
    "        src, dst = g.edge_index[0], g.edge_index[1]\n",
    "        for ep in range(1, self.epochs+1):\n",
    "            model_to_train.train(); opt.zero_grad()\n",
    "            preds = model_to_train(g.x, g.edge_index)\n",
    "            loss_obs = self.loss_fn(preds, g.y)\n",
    "\n",
    "            with torch.no_grad(): tpreds = teacher(g.x, g.edge_index)\n",
    "\n",
    "            loss_causal = 0.0; cnt = 0\n",
    "            for v in range(g.num_nodes):\n",
    "                parents = src[dst == v]\n",
    "                if parents.numel()==0: continue\n",
    "                cnt += 1\n",
    "                ivals=[]\n",
    "                for p in parents.tolist():\n",
    "                    after = model_to_train.do_intervention(\n",
    "                        g.x, g.edge_index,\n",
    "                        intervened_nodes=torch.tensor([p], device=device),\n",
    "                        new_feature_values=g.x.new_zeros(1, g.x.size(-1))\n",
    "                    )\n",
    "                    ivals.append(after[v])\n",
    "                loss_causal += self.loss_fn(torch.stack(ivals).mean(0), tpreds[v])\n",
    "            if cnt>0: loss_causal /= cnt\n",
    "\n",
    "            total = loss_obs + self.gamma*loss_causal\n",
    "            total.backward(); opt.step()\n",
    "\n",
    "            self._log_row(ep, loss_obs.item(), loss_causal.item(), total.item(), self._val_mse_epoch(model_to_train))\n",
    "        return model_to_train\n",
    "\n",
    "    # loader path (works for PyG DataLoader)\n",
    "    def _train_over_loader(self, model_to_train, loader):\n",
    "        it = iter(loader)\n",
    "        try:\n",
    "            first = next(it)\n",
    "        except StopIteration:\n",
    "            raise ValueError(\"Training loader is empty.\")\n",
    "        device = first.x.device\n",
    "        model_to_train = model_to_train.to(device)\n",
    "        opt = torch.optim.Adam(model_to_train.parameters(), lr=self.lr)\n",
    "\n",
    "        teacher = TeacherGNN(first.x.size(-1), 16, 8).to(device)\n",
    "        opt_t = torch.optim.Adam(teacher.parameters(), lr=0.01)\n",
    "        for _ in range(100):\n",
    "            opt_t.zero_grad()\n",
    "            lt = F.mse_loss(teacher(first.x, first.edge_index), first.y)\n",
    "            lt.backward(); opt_t.step()\n",
    "        teacher.eval()\n",
    "\n",
    "        for ep in range(1, self.epochs+1):\n",
    "            obs_sum=0.0; cau_sum=0.0; steps=0\n",
    "            for g in loader:\n",
    "                g = g.to(device)\n",
    "                model_to_train.train(); opt.zero_grad()\n",
    "                preds = model_to_train(g.x, g.edge_index)\n",
    "                loss_obs = self.loss_fn(preds, g.y)\n",
    "                with torch.no_grad(): tpreds = teacher(g.x, g.edge_index)\n",
    "\n",
    "                src, dst = g.edge_index[0], g.edge_index[1]\n",
    "                loss_causal=0.0; cnt=0\n",
    "                for v in range(g.num_nodes):\n",
    "                    parents = src[dst==v]\n",
    "                    if parents.numel()==0: continue\n",
    "                    cnt += 1\n",
    "                    ivals=[]\n",
    "                    for p in parents.tolist():\n",
    "                        after = model_to_train.do_intervention(\n",
    "                            g.x, g.edge_index,\n",
    "                            intervened_nodes=torch.tensor([p], device=device),\n",
    "                            new_feature_values=g.x.new_zeros(1, g.x.size(-1))\n",
    "                        )\n",
    "                        ivals.append(after[v])\n",
    "                    loss_causal += self.loss_fn(torch.stack(ivals).mean(0), tpreds[v])\n",
    "                if cnt>0: loss_causal /= cnt\n",
    "\n",
    "                total = loss_obs + self.gamma*loss_causal\n",
    "                total.backward(); opt.step()\n",
    "\n",
    "                obs_sum += loss_obs.item(); cau_sum += loss_causal.item(); steps += 1\n",
    "\n",
    "            tr_obs = obs_sum/max(steps,1)\n",
    "            tr_cau = cau_sum/max(steps,1)\n",
    "            tr_tot = tr_obs + self.gamma*tr_cau\n",
    "            self._log_row(ep, tr_obs, tr_cau, tr_tot, self._val_mse_epoch(model_to_train))\n",
    "        return model_to_train"
   ]
  },
  {
   "cell_type": "code",
   "execution_count": 7,
   "id": "10040559",
   "metadata": {},
   "outputs": [
    {
     "name": "stdout",
     "output_type": "stream",
     "text": [
      "Saved checkpoint: C:\\Users\\asus\\OneDrive\\Desktop\\thesis\\outputs\\best_model.pt\n"
     ]
    }
   ],
   "source": [
    "# train-or-load\n",
    "ckpt_path = OUTPUTS_DIR / \"best_model.pt\"\n",
    "\n",
    "if ckpt_path.exists():\n",
    "    model.load_state_dict(torch.load(ckpt_path, map_location=device))\n",
    "    model.eval()\n",
    "    print(\"Loaded checkpoint:\", ckpt_path)\n",
    "    # no training curve when loading; you can skip plotting if desired\n",
    "    tlog_history = None\n",
    "else:\n",
    "    tr_cfg = cfg[\"training\"]\n",
    "    trainer = HybridCausalTrainerLogged(\n",
    "        epochs=tr_cfg.get(\"epochs\", 50),\n",
    "        lr=tr_cfg.get(\"lr\", 0.01),\n",
    "        gamma=tr_cfg.get(\"gamma\", 0.5),\n",
    "    )\n",
    "    trainer.set_validation_loader(val_loader)\n",
    "    trainer.train(model, train_loader)\n",
    "\n",
    "    torch.save(model.state_dict(), ckpt_path)\n",
    "    print(\"Saved checkpoint:\", ckpt_path)\n",
    "\n",
    "    # persist training curve for reproducibility\n",
    "    tlog_history = pd.DataFrame(trainer.history)\n",
    "    tlog_history.to_csv(OUTPUTS_DIR / \"training_curve.csv\", index=False)\n"
   ]
  },
  {
   "cell_type": "markdown",
   "id": "f23b12b4",
   "metadata": {},
   "source": [
    "### Training Curves"
   ]
  },
  {
   "cell_type": "code",
   "execution_count": 8,
   "id": "d0280743",
   "metadata": {},
   "outputs": [
    {
     "data": {
      "image/png": "[encoded data removed]",
      "text/plain": [
       "<Figure size 1000x500 with 1 Axes>"
      ]
     },
     "metadata": {},
     "output_type": "display_data"
    }
   ],
   "source": [
    "if tlog_history is None:\n",
    "    # try to load if we just loaded a checkpoint\n",
    "    curve_path = OUTPUTS_DIR / \"training_curve.csv\"\n",
    "    if curve_path.exists():\n",
    "        tlog_history = pd.read_csv(curve_path)\n",
    "\n",
    "if tlog_history is not None and len(tlog_history) > 0:\n",
    "    df = tlog_history.copy()\n",
    "\n",
    "    def ema(x, alpha=0.15):\n",
    "        y = []; s = None\n",
    "        for v in x:\n",
    "            s = v if s is None else alpha*v + (1-alpha)*s\n",
    "            y.append(s)\n",
    "        return y\n",
    "\n",
    "    plt.figure(figsize=(10,5))\n",
    "    plt.plot(df[\"epoch\"], df[\"loss_obs\"],    label=\"train obs\")\n",
    "    plt.plot(df[\"epoch\"], df[\"loss_causal\"], label=\"train causal\")\n",
    "    plt.plot(df[\"epoch\"], df[\"loss_total\"],  label=\"train total\", linewidth=2)\n",
    "    if \"val_mse\" in df and not df[\"val_mse\"].isna().all():\n",
    "        plt.plot(df[\"epoch\"], df[\"val_mse\"], label=\"val MSE\", linestyle='-.')\n",
    "    plt.plot(df[\"epoch\"], ema(df[\"loss_causal\"]), linestyle='--', label=\"causal (EMA)\")\n",
    "    plt.xlabel(\"epoch\"); plt.ylabel(\"loss\")\n",
    "    plt.title(\"Training & Validation Losses\")\n",
    "    plt.legend(); plt.tight_layout(); plt.show()\n",
    "else:\n",
    "    print(\"No training curve to plot.\")\n"
   ]
  },
  {
   "cell_type": "markdown",
   "id": "d80805f7",
   "metadata": {},
   "source": [
    "## Overall Performance\n",
    "\n",
    "We compute MSE on the validation set. If you want to focus on VOL only, we use its index."
   ]
  },
  {
   "cell_type": "code",
   "execution_count": 9,
   "id": "dca48155",
   "metadata": {},
   "outputs": [
    {
     "data": {
      "text/html": [
       "<div>\n",
       "<style scoped>\n",
       "    .dataframe tbody tr th:only-of-type {\n",
       "        vertical-align: middle;\n",
       "    }\n",
       "\n",
       "    .dataframe tbody tr th {\n",
       "        vertical-align: top;\n",
       "    }\n",
       "\n",
       "    .dataframe thead th {\n",
       "        text-align: right;\n",
       "    }\n",
       "</style>\n",
       "<table border=\"1\" class=\"dataframe\">\n",
       "  <thead>\n",
       "    <tr style=\"text-align: right;\">\n",
       "      <th></th>\n",
       "      <th>value</th>\n",
       "    </tr>\n",
       "    <tr>\n",
       "      <th>metric</th>\n",
       "      <th></th>\n",
       "    </tr>\n",
       "  </thead>\n",
       "  <tbody>\n",
       "    <tr>\n",
       "      <th>Val MSE (all nodes)</th>\n",
       "      <td>1.660761e+27</td>\n",
       "    </tr>\n",
       "    <tr>\n",
       "      <th>Val MSE (VOL only)</th>\n",
       "      <td>8.685499e+27</td>\n",
       "    </tr>\n",
       "  </tbody>\n",
       "</table>\n",
       "</div>"
      ],
      "text/plain": [
       "                            value\n",
       "metric                           \n",
       "Val MSE (all nodes)  1.660761e+27\n",
       "Val MSE (VOL only)   8.685499e+27"
      ]
     },
     "metadata": {},
     "output_type": "display_data"
    }
   ],
   "source": [
    "@torch.no_grad()\n",
    "def mse_on_loader(model, loader, node_idx=None):\n",
    "    model.eval()\n",
    "    loss = nn.MSELoss()\n",
    "    tot, n = 0.0, 0\n",
    "    for g in loader:\n",
    "        g = g.to(next(model.parameters()).device)\n",
    "        p = model(g.x, g.edge_index)\n",
    "        if node_idx is None:\n",
    "            tot += loss(p, g.y).item()\n",
    "        else:\n",
    "            tot += loss(p[node_idx], g.y[node_idx]).item()\n",
    "        n += 1\n",
    "    return tot / max(n,1)\n",
    "\n",
    "vol_idx = ds.node_map[\"VOL\"]\n",
    "val_mse_full = mse_on_loader(model, val_loader, node_idx=None)\n",
    "val_mse_vol  = mse_on_loader(model, val_loader, node_idx=vol_idx)\n",
    "\n",
    "perf_df = pd.DataFrame([\n",
    "    {\"metric\": \"Val MSE (all nodes)\", \"value\": val_mse_full},\n",
    "    {\"metric\": \"Val MSE (VOL only)\",  \"value\": val_mse_vol},\n",
    "]).set_index(\"metric\")\n",
    "display(perf_df)\n"
   ]
  },
  {
   "cell_type": "markdown",
   "id": "6d3f6573",
   "metadata": {},
   "source": [
    "### Robustness Under Shock (Observational Shock)\n",
    "\n",
    "We compare validation MSE with and without a shock to a chosen node (e.g., BAS × 5). This is not a do-operation; it’s an OOD stress test."
   ]
  },
  {
   "cell_type": "code",
   "execution_count": 10,
   "id": "703e53a2",
   "metadata": {},
   "outputs": [
    {
     "data": {
      "text/html": [
       "<div>\n",
       "<style scoped>\n",
       "    .dataframe tbody tr th:only-of-type {\n",
       "        vertical-align: middle;\n",
       "    }\n",
       "\n",
       "    .dataframe tbody tr th {\n",
       "        vertical-align: top;\n",
       "    }\n",
       "\n",
       "    .dataframe thead th {\n",
       "        text-align: right;\n",
       "    }\n",
       "</style>\n",
       "<table border=\"1\" class=\"dataframe\">\n",
       "  <thead>\n",
       "    <tr style=\"text-align: right;\">\n",
       "      <th></th>\n",
       "      <th>MSE (Normal)</th>\n",
       "      <th>MSE (Shock)</th>\n",
       "    </tr>\n",
       "  </thead>\n",
       "  <tbody>\n",
       "    <tr>\n",
       "      <th>Shock BAS ×5</th>\n",
       "      <td>1.660761e+27</td>\n",
       "      <td>1.660768e+27</td>\n",
       "    </tr>\n",
       "  </tbody>\n",
       "</table>\n",
       "</div>"
      ],
      "text/plain": [
       "              MSE (Normal)   MSE (Shock)\n",
       "Shock BAS ×5  1.660761e+27  1.660768e+27"
      ]
     },
     "metadata": {},
     "output_type": "display_data"
    },
    {
     "data": {
      "image/png": "[encoded data removed]",
      "text/plain": [
       "<Figure size 1000x600 with 1 Axes>"
      ]
     },
     "metadata": {},
     "output_type": "display_data"
    }
   ],
   "source": [
    "@torch.no_grad()\n",
    "def robustness_mse(model, dataset, node_idx, factor=5.0, indices=None):\n",
    "    model.eval()\n",
    "    loss = nn.MSELoss()\n",
    "    tot_n, tot_s, n = 0.0, 0.0, 0\n",
    "    idxs = indices if indices is not None else range(len(dataset))\n",
    "    for i in idxs:\n",
    "        g = dataset[i]\n",
    "        g = g.to(next(model.parameters()).device)\n",
    "        p_n = model(g.x, g.edge_index)\n",
    "\n",
    "        x_s = g.x.clone()\n",
    "        x_s[node_idx] = x_s[node_idx] * factor\n",
    "        p_s = model(x_s, g.edge_index)\n",
    "\n",
    "        tot_n += loss(p_n, g.y).item()\n",
    "        tot_s += loss(p_s, g.y).item()\n",
    "        n += 1\n",
    "    return (tot_n / max(n,1), tot_s / max(n,1))\n",
    "\n",
    "# choose node to shock (BAS if present; else pick any)\n",
    "shock_node = \"BAS\" if \"BAS\" in ds.node_map else list(ds.node_map.keys())[0]\n",
    "shock_idx = ds.node_map[shock_node]\n",
    "mse_n, mse_s = robustness_mse(model, ds, node_idx=shock_idx, factor=5.0, indices=idx_val)\n",
    "\n",
    "rob_df = pd.DataFrame([{\"MSE (Normal)\": mse_n, \"MSE (Shock)\": mse_s}], index=[f\"Shock {shock_node} ×5\"])\n",
    "display(rob_df)\n",
    "\n",
    "ax = rob_df.T.plot(kind=\"bar\", rot=0, title=f\"Robustness Under Shock: {shock_node} ×5\", logy=True)\n",
    "ax.set_ylabel(\"MSE (log)\"); plt.tight_layout(); plt.show()\n"
   ]
  },
  {
   "cell_type": "markdown",
   "id": "e97853b4",
   "metadata": {},
   "source": [
    "### ATE (do-Intervention) — Estimated\n",
    "\n",
    "We estimate ATE for do(BAS + 1.0) on VOL using the model’s do_intervention. This is the core causal behavior we want."
   ]
  },
  {
   "cell_type": "code",
   "execution_count": 11,
   "id": "a21bc61a",
   "metadata": {},
   "outputs": [
    {
     "data": {
      "text/html": [
       "<div>\n",
       "<style scoped>\n",
       "    .dataframe tbody tr th:only-of-type {\n",
       "        vertical-align: middle;\n",
       "    }\n",
       "\n",
       "    .dataframe tbody tr th {\n",
       "        vertical-align: top;\n",
       "    }\n",
       "\n",
       "    .dataframe thead th {\n",
       "        text-align: right;\n",
       "    }\n",
       "</style>\n",
       "<table border=\"1\" class=\"dataframe\">\n",
       "  <thead>\n",
       "    <tr style=\"text-align: right;\">\n",
       "      <th></th>\n",
       "      <th>Estimated ATE</th>\n",
       "    </tr>\n",
       "  </thead>\n",
       "  <tbody>\n",
       "    <tr>\n",
       "      <th>do(BAS+1) → VOL</th>\n",
       "      <td>0.0</td>\n",
       "    </tr>\n",
       "  </tbody>\n",
       "</table>\n",
       "</div>"
      ],
      "text/plain": [
       "                 Estimated ATE\n",
       "do(BAS+1) → VOL            0.0"
      ]
     },
     "metadata": {},
     "output_type": "display_data"
    },
    {
     "data": {
      "image/png": "[encoded data removed]",
      "text/plain": [
       "<Figure size 1000x600 with 1 Axes>"
      ]
     },
     "metadata": {},
     "output_type": "display_data"
    }
   ],
   "source": [
    "@torch.no_grad()\n",
    "def ate_estimated(model, g, target_idx, intervene_idx, delta=1.0):\n",
    "    model.eval()\n",
    "    g = g.to(next(model.parameters()).device)\n",
    "    p0 = model(g.x, g.edge_index)\n",
    "    if hasattr(model, \"do_intervention\"):\n",
    "        p1 = model.do_intervention(\n",
    "            g.x, g.edge_index,\n",
    "            intervened_nodes=torch.tensor([intervene_idx], dtype=torch.long, device=g.x.device),\n",
    "            new_feature_values=(g.x[intervene_idx] + delta).unsqueeze(0)\n",
    "        )\n",
    "    else:\n",
    "        x1 = g.x.clone(); x1[intervene_idx] += delta\n",
    "        p1 = model(x1, g.edge_index)\n",
    "    return (p1 - p0)[target_idx].item()\n",
    "\n",
    "# pick a representative validation graph\n",
    "g_rep = ds[idx_val[0]]\n",
    "intervene_node = \"BAS\" if \"BAS\" in ds.node_map else list(ds.node_map.keys())[0]\n",
    "intervene_idx = ds.node_map[intervene_node]\n",
    "\n",
    "ate_val = ate_estimated(model, g_rep, target_idx=vol_idx, intervene_idx=intervene_idx, delta=1.0)\n",
    "df_ate = pd.DataFrame([{\"Estimated ATE\": ate_val}], index=[f\"do({intervene_node}+1) → VOL\"])\n",
    "display(df_ate)\n",
    "\n",
    "ax = df_ate.plot(kind=\"bar\", rot=0, title=f\"ATE (estimated): do({intervene_node}+1) on VOL\")\n",
    "ax.set_ylabel(\"ATE\"); plt.tight_layout(); plt.show()\n"
   ]
  },
  {
   "cell_type": "markdown",
   "id": "9824fc63",
   "metadata": {},
   "source": [
    "### Case Study: Localized do() and Downstream Effects\n",
    "\n",
    "We intervene on a node (e.g., BAS) at a representative date and show which nodes are most affected, and the effect on VOL (and optionally LIQ if present)."
   ]
  },
  {
   "cell_type": "code",
   "execution_count": 12,
   "id": "bd000c35",
   "metadata": {},
   "outputs": [
    {
     "name": "stdout",
     "output_type": "stream",
     "text": [
      "Top-10 affected nodes under do(BAS+1):\n"
     ]
    },
    {
     "data": {
      "text/html": [
       "<div>\n",
       "<style scoped>\n",
       "    .dataframe tbody tr th:only-of-type {\n",
       "        vertical-align: middle;\n",
       "    }\n",
       "\n",
       "    .dataframe tbody tr th {\n",
       "        vertical-align: top;\n",
       "    }\n",
       "\n",
       "    .dataframe thead th {\n",
       "        text-align: right;\n",
       "    }\n",
       "</style>\n",
       "<table border=\"1\" class=\"dataframe\">\n",
       "  <thead>\n",
       "    <tr style=\"text-align: right;\">\n",
       "      <th></th>\n",
       "      <th>Δ prediction</th>\n",
       "    </tr>\n",
       "  </thead>\n",
       "  <tbody>\n",
       "    <tr>\n",
       "      <th>BAS</th>\n",
       "      <td>2.427446e+13</td>\n",
       "    </tr>\n",
       "    <tr>\n",
       "      <th>LIQ</th>\n",
       "      <td>5.509768e+08</td>\n",
       "    </tr>\n",
       "    <tr>\n",
       "      <th>PC</th>\n",
       "      <td>4.194304e+08</td>\n",
       "    </tr>\n",
       "    <tr>\n",
       "      <th>OI</th>\n",
       "      <td>2.135654e+07</td>\n",
       "    </tr>\n",
       "    <tr>\n",
       "      <th>Mom</th>\n",
       "      <td>1.493894e+04</td>\n",
       "    </tr>\n",
       "    <tr>\n",
       "      <th>HML</th>\n",
       "      <td>3.260312e+03</td>\n",
       "    </tr>\n",
       "    <tr>\n",
       "      <th>VOL</th>\n",
       "      <td>0.000000e+00</td>\n",
       "    </tr>\n",
       "  </tbody>\n",
       "</table>\n",
       "</div>"
      ],
      "text/plain": [
       "     Δ prediction\n",
       "BAS  2.427446e+13\n",
       "LIQ  5.509768e+08\n",
       "PC   4.194304e+08\n",
       "OI   2.135654e+07\n",
       "Mom  1.493894e+04\n",
       "HML  3.260312e+03\n",
       "VOL  0.000000e+00"
      ]
     },
     "metadata": {},
     "output_type": "display_data"
    },
    {
     "data": {
      "image/png": "[encoded data removed]",
      "text/plain": [
       "<Figure size 1000x600 with 1 Axes>"
      ]
     },
     "metadata": {},
     "output_type": "display_data"
    }
   ],
   "source": [
    "@torch.no_grad()\n",
    "def case_study_do(model, g, node_idx, delta=1.0, topk=10):\n",
    "    model.eval()\n",
    "    g = g.to(next(model.parameters()).device)\n",
    "    p0 = model(g.x, g.edge_index)\n",
    "    if hasattr(model, \"do_intervention\"):\n",
    "        p1 = model.do_intervention(\n",
    "            g.x, g.edge_index,\n",
    "            intervened_nodes=torch.tensor([node_idx], dtype=torch.long, device=g.x.device),\n",
    "            new_feature_values=(g.x[node_idx] + delta).unsqueeze(0)\n",
    "        )\n",
    "    else:\n",
    "        x1 = g.x.clone(); x1[node_idx] += delta\n",
    "        p1 = model(x1, g.edge_index)\n",
    "    d = (p1 - p0).squeeze(-1).detach().cpu().numpy()\n",
    "    names = list(ds.node_map.keys())\n",
    "    s = pd.Series(d, index=names).reindex(sorted(names))\n",
    "    return s.abs().sort_values(ascending=False).head(topk), s\n",
    "\n",
    "topk_series, raw_delta = case_study_do(model, g_rep, intervene_idx, delta=1.0, topk=10)\n",
    "print(f\"Top-10 affected nodes under do({intervene_node}+1):\")\n",
    "display(topk_series.to_frame(\"Δ prediction\"))\n",
    "\n",
    "# plot Δ on VOL (and LIQ if present)\n",
    "to_plot = {}\n",
    "to_plot[\"VOL\"] = raw_delta[\"VOL\"] if \"VOL\" in raw_delta.index else 0.0\n",
    "if \"LIQ\" in raw_delta.index:\n",
    "    to_plot[\"LIQ\"] = raw_delta[\"LIQ\"]\n",
    "\n",
    "if len(to_plot) > 0:\n",
    "    df_targets = pd.DataFrame(to_plot, index=[\"Δ\"]).T\n",
    "    ax = df_targets.plot(kind=\"bar\", rot=0, title=f\"Target deltas under do({intervene_node}+1)\")\n",
    "    ax.set_ylabel(\"Δ prediction\"); plt.tight_layout(); plt.show()\n"
   ]
  }
 ],
 "metadata": {
  "kernelspec": {
   "display_name": "ai_project",
   "language": "python",
   "name": "python3"
  },
  "language_info": {
   "codemirror_mode": {
    "name": "ipython",
    "version": 3
   },
   "file_extension": ".py",
   "mimetype": "text/x-python",
   "name": "python",
   "nbconvert_exporter": "python",
   "pygments_lexer": "ipython3",
   "version": "3.12.10"
  }
 },
 "nbformat": 4,
 "nbformat_minor": 5
}
