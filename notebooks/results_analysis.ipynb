{
 "cells": [
  {
   "cell_type": "markdown",
   "id": "e30b6139",
   "metadata": {},
   "source": [
    "# Notebook 3: Analysis of Experimental Results\n",
    "\n",
    "### Goal\n",
    "This notebook is for analyzing the outputs of our experiments. We will load the saved model checkpoints and results files from the `outputs/` directory to generate the key tables and figures for the thesis."
   ]
  },
  {
   "cell_type": "code",
   "execution_count": 94,
   "id": "2fa2690b",
   "metadata": {},
   "outputs": [],
   "source": [
    "from pathlib import Path\n",
    "import sys\n",
    "\n",
    "PROJECT_ROOT = Path().resolve().parent\n",
    "if str(PROJECT_ROOT) not in sys.path:\n",
    "    sys.path.insert(0, str(PROJECT_ROOT))  \n",
    "    \n",
    "DATA_DIR = PROJECT_ROOT / \"data\" / \"processed\"\n",
    "CONFIGS_DIR = PROJECT_ROOT / \"configs\"\n",
    "OUTPUTS_DIR = PROJECT_ROOT / \"outputs\" / \"finance\"\n",
    "BEST_DIR = CONFIGS_DIR / \"best_config.yaml\"\n",
    "\n",
    "OUTPUTS_DIR.mkdir(parents=True, exist_ok=True)\n",
    "\n",
    "# minimal imports (keep your existing ones)\n",
    "import os, yaml, json, math, torch, numpy as np, pandas as pd\n",
    "import torch.nn.functional as F\n",
    "from pathlib import Path\n",
    "from torch_geometric.loader import DataLoader\n",
    "from torch.utils.data import Subset\n",
    "import matplotlib.pyplot as plt\n",
    "\n",
    "from src.models import GNN_NCM\n",
    "from src.dataloader import CausalFactorDataset\n",
    "from src.trainer import CausalTwoPartTrainer  \n",
    "\n"
   ]
  },
  {
   "cell_type": "markdown",
   "id": "caeb35b2",
   "metadata": {},
   "source": [
    "### Load Best Parameters"
   ]
  },
  {
   "cell_type": "code",
   "execution_count": 95,
   "id": "22feb879",
   "metadata": {},
   "outputs": [
    {
     "name": "stdout",
     "output_type": "stream",
     "text": [
      "device: cuda\n"
     ]
    }
   ],
   "source": [
    "cfg_path = Path(BEST_DIR)\n",
    "with open(cfg_path, \"r\") as f:\n",
    "    cfg = yaml.safe_load(f)\n",
    "\n",
    "device = torch.device(\"cuda\" if (cfg.get(\"device\",\"cuda\") == \"cuda\" and torch.cuda.is_available()) else \"cpu\")\n",
    "\n",
    "print(\"device:\", device)\n"
   ]
  },
  {
   "cell_type": "markdown",
   "id": "69c77092",
   "metadata": {},
   "source": [
    "### Datasets"
   ]
  },
  {
   "cell_type": "code",
   "execution_count": 96,
   "id": "61bb5965",
   "metadata": {},
   "outputs": [
    {
     "name": "stdout",
     "output_type": "stream",
     "text": [
      "num_features=1 | num_edges=8 | nodes=7\n"
     ]
    }
   ],
   "source": [
    "ds = CausalFactorDataset(\n",
    "    root_dir=DATA_DIR,\n",
    "    drop_self_for_target=True,\n",
    ")\n",
    "split = int(0.8 * len(ds))\n",
    "train_loader = DataLoader(Subset(ds, range(split)), batch_size=cfg[\"data\"][\"batch_size\"], shuffle=True)\n",
    "val_loader   = DataLoader(Subset(ds, range(split, len(ds))), batch_size=cfg[\"data\"][\"batch_size\"], shuffle=False)\n",
    "\n",
    "\n",
    "# dims\n",
    "g0 = next(iter(train_loader))\n",
    "num_features = g0.num_node_features\n",
    "num_edges    = g0.edge_index.size(1)\n",
    "\n",
    "\n",
    "\n",
    "print(f\"num_features={num_features} | num_edges={num_edges} | nodes={g0.num_nodes}\")\n"
   ]
  },
  {
   "cell_type": "markdown",
   "id": "1093b1ae",
   "metadata": {},
   "source": [
    "## Initializing the Model and Training (if not loaded)"
   ]
  },
  {
   "cell_type": "code",
   "execution_count": 97,
   "id": "a19145c4",
   "metadata": {},
   "outputs": [],
   "source": [
    "model_per_edge = GNN_NCM(\n",
    "    num_features=num_features,\n",
    "    num_edges=num_edges,\n",
    "    gnn_mode=cfg[\"model\"][\"gnn_mode\"],\n",
    "    hidden_dim=cfg[\"model\"][\"hidden_dim\"],\n",
    "    out_dim=cfg[\"model\"][\"out_dim\"],\n",
    "    noise_dim=cfg[\"model\"][\"noise_dim\"],\n",
    ").to(device)\n",
    "\n",
    "\n",
    "model_shared = GNN_NCM(\n",
    "    num_features=num_features,\n",
    "    num_edges=num_edges,\n",
    "    gnn_mode=\"shared\",\n",
    "    hidden_dim=cfg[\"model\"][\"hidden_dim\"],\n",
    "    out_dim=cfg[\"model\"][\"out_dim\"],\n",
    "    noise_dim=cfg[\"model\"][\"noise_dim\"],\n",
    "   \n",
    ").to(device)\n",
    "\n",
    "\n"
   ]
  },
  {
   "cell_type": "code",
   "execution_count": 98,
   "id": "b67dc98f",
   "metadata": {},
   "outputs": [
    {
     "name": "stdout",
     "output_type": "stream",
     "text": [
      "[obs 010] obs=0.518702 | val_obs=0.234416\n",
      "[obs 020] obs=0.409057 | val_obs=0.068164\n",
      "[obs 030] obs=0.356554 | val_obs=0.214700\n",
      "[do  010] total=0.280015 (obs=0.206546, do=0.238705) | val_obs=0.044595\n",
      "[obs 010] obs=0.780481 | val_obs=0.291638\n",
      "[obs 020] obs=1.177194 | val_obs=0.161920\n",
      "[obs 030] obs=0.380965 | val_obs=0.227517\n",
      "[do  010] total=0.935489 (obs=0.685323, do=0.798424) | val_obs=0.109631\n"
     ]
    }
   ],
   "source": [
    "tcfg = cfg[\"training\"]\n",
    "trainer = CausalTwoPartTrainer(\n",
    "    epochs_obs=tcfg[\"epochs_obs\"], epochs_do=tcfg[\"epochs_do\"],\n",
    "    lr=tcfg[\"lr\"], w_obs=tcfg[\"w_obs\"], w_do=tcfg[\"w_do\"],\n",
    "    weight_decay=tcfg[\"weight_decay\"], clip=tcfg[\"clip\"],\n",
    "    neutral=tcfg[\"neutral\"], delta=tcfg[\"delta\"]\n",
    ")\n",
    "\n",
    "# train (no checkpoint logic here)\n",
    "trainer.train(model_per_edge, train_loader, val_loader=val_loader)\n",
    "val_mse_per_edge = trainer.evaluate_obs_mse(model_per_edge, val_loader)\n",
    "\n",
    "\n",
    "trainer.train(model_shared, train_loader, val_loader=val_loader)\n",
    "val_mse_shared = trainer.evaluate_obs_mse(model_shared, val_loader)\n"
   ]
  },
  {
   "cell_type": "markdown",
   "id": "951196e0",
   "metadata": {},
   "source": [
    "baseline GNN"
   ]
  },
  {
   "cell_type": "code",
   "execution_count": 99,
   "id": "715420fd",
   "metadata": {},
   "outputs": [
    {
     "name": "stdout",
     "output_type": "stream",
     "text": [
      "[Baseline] ep 040 loss=38.7415\n",
      "[Baseline] ep 080 loss=60.1503\n",
      "[Baseline] ep 120 loss=42.3075\n",
      "[Baseline] ep 160 loss=53.0862\n",
      "[Baseline] ep 200 loss=37.8166\n",
      "[baseline] val_mse=9.811640\n"
     ]
    }
   ],
   "source": [
    "from src.models import BaselineGCN\n",
    "from torch import nn, optim\n",
    "\n",
    "\n",
    "baseline_model = BaselineGCN(num_features=num_features, hidden_dim=cfg[\"model\"][\"hidden_dim\"], out_dim=cfg[\"model\"][\"out_dim\"])\n",
    "optimizer_baseline = optim.Adam(baseline_model.parameters())\n",
    "loss_fn_baseline = nn.MSELoss()\n",
    "\n",
    "\n",
    "for ep in range(200):\n",
    "    for g in train_loader:\n",
    "        baseline_model.train()\n",
    "        optimizer_baseline.zero_grad()\n",
    "        pred = baseline_model(g.x, g.edge_index)\n",
    "        loss = loss_fn_baseline(pred, g.y)\n",
    "        loss.backward(); optimizer_baseline.step()\n",
    "    if (ep+1) % 40 == 0:\n",
    "        print(f\"[Baseline] ep {ep+1:03d} loss={loss.item():.4f}\")\n",
    "\n",
    "# quick baseline val\n",
    "baseline_model.eval()\n",
    "with torch.no_grad():\n",
    "    total = 0.0; n = 0\n",
    "    for g in val_loader:\n",
    "\n",
    "        VOL_IDX = 6  # or your idx[\"VOL\"]\n",
    "        total += float(( (baseline_model(g.x, g.edge_index).squeeze(-1)[VOL_IDX] - g.y.squeeze(-1)[VOL_IDX]) ** 2 ).item())\n",
    "        n += 1\n",
    "val_loss_bl = total / max(n,1)\n",
    "print(f\"[baseline] val_mse={val_loss_bl:.6f}\")"
   ]
  },
  {
   "cell_type": "code",
   "execution_count": 100,
   "id": "8e390cb7",
   "metadata": {},
   "outputs": [
    {
     "name": "stdout",
     "output_type": "stream",
     "text": [
      "{'per_edge': {'mse': 0.04623184689199147, 'rmse': 0.21501592241504225}, 'shared': {'mse': 0.11178899187918591, 'rmse': 0.33434860831052654}, 'gcn': {'mse': 9.81164026989237, 'rmse': 3.1323537906648364}}\n"
     ]
    }
   ],
   "source": [
    "pred_fit = {\n",
    "    \"per_edge\": {\"mse\": float(val_mse_per_edge), \"rmse\": float(np.sqrt(val_mse_per_edge))},\n",
    "    \"shared\":   {\"mse\": float(val_mse_shared),   \"rmse\": float(np.sqrt(val_mse_shared))},\n",
    "    \"gcn\":      {\"mse\": float(val_loss_bl),      \"rmse\": float(np.sqrt(val_loss_bl))},\n",
    "}\n",
    "print(pred_fit)\n",
    "\n",
    "with open(os.path.join(OUTPUTS_DIR, \"predictive_fit_vol.json\"), \"w\") as f:\n",
    "    json.dump(pred_fit, f, indent=2)\n"
   ]
  },
  {
   "cell_type": "markdown",
   "id": "166424a6",
   "metadata": {},
   "source": [
    "### Robustness to OOD"
   ]
  },
  {
   "cell_type": "code",
   "execution_count": 101,
   "id": "c03b6f6e",
   "metadata": {},
   "outputs": [
    {
     "name": "stdout",
     "output_type": "stream",
     "text": [
      "{'per_edge': [{'stress_name': 'do_BAS_plus_delta', 'mse_factual': 0.04541635382718042, 'mse_stress': 0.09879915003219376, 'degradation_ratio': 2.175409113773678}, {'stress_name': 'do_MOM_q95', 'mse_factual': 0.04541635382718042, 'mse_stress': 0.042565915217299174, 'degradation_ratio': 0.9372376166157008}], 'shared': [{'stress_name': 'do_BAS_plus_delta', 'mse_factual': 0.10895453174800976, 'mse_stress': 0.1358674694986447, 'degradation_ratio': 1.2470107238093797}, {'stress_name': 'do_MOM_q95', 'mse_factual': 0.10895453174800976, 'mse_stress': 0.1062304117595372, 'degradation_ratio': 0.9749976440103665}], 'gcn': [{'stress_name': 'do_BAS_plus_delta', 'mse_factual': 52.32173111127771, 'mse_stress': 52.434675589851715, 'degradation_ratio': 1.0021586533200286}, {'stress_name': 'do_MOM_q95', 'mse_factual': 52.32173111127771, 'mse_stress': 51.76922735960587, 'degradation_ratio': 0.9894402623931199}]}\n"
     ]
    }
   ],
   "source": [
    "# --- stress degradation (VOL only; no indexing, no device moves) ---\n",
    "import numpy as np, json, os\n",
    "\n",
    "@torch.no_grad()\n",
    "def stress_degradation(model, loader, ops):\n",
    "    # factual MSE (VOL already your loss target)\n",
    "    mses_f = []\n",
    "    for g in loader:\n",
    "        mses_f.append(float(((model(g.x, g.edge_index) - g.y)**2).mean().item()))\n",
    "    mse_f = float(np.mean(mses_f))\n",
    "\n",
    "    out = []\n",
    "    for op in ops:\n",
    "        mses_s = []\n",
    "        for g in loader:\n",
    "            x = g.x.clone()\n",
    "            node = op[\"node\"]\n",
    "            new_val = op[\"value_fn\"](float(x[node,0].item())) if \"value_fn\" in op else float(op[\"value_const\"])\n",
    "            try:\n",
    "                yhat_s = model.do_intervention(\n",
    "                    x, g.edge_index,\n",
    "                    intervened_nodes=[node],\n",
    "                    new_feature_values=torch.tensor([new_val]).float()\n",
    "                )\n",
    "            except AttributeError:\n",
    "                x[node,0] = new_val\n",
    "                yhat_s = model(x, g.edge_index)\n",
    "            mses_s.append(float(((yhat_s - g.y)**2).mean().item()))\n",
    "        mse_s = float(np.mean(mses_s))\n",
    "        out.append({\"stress_name\": op[\"name\"], \"mse_factual\": mse_f,\n",
    "                    \"mse_stress\": mse_s, \"degradation_ratio\": float(mse_s/(mse_f+1e-12))})\n",
    "    return out\n",
    "\n",
    "\n",
    "# --- build ops (BAS +Δ, MOM @ q95 on VAL split) ---\n",
    "BAS_IDX, MOM_IDX = idx[\"BAS\"], idx[\"MOM\"]\n",
    "mom_vals = [float(g.x[MOM_IDX, 0].item()) for g in val_loader]\n",
    "MOM_Q95 = float(np.quantile(mom_vals, 0.95))\n",
    "DELTA_BAS = 0.5  # standardized units\n",
    "\n",
    "ops = [\n",
    "    {\"name\": \"do_BAS_plus_delta\", \"node\": BAS_IDX, \"value_fn\": lambda v: v + DELTA_BAS},\n",
    "    {\"name\": \"do_MOM_q95\",        \"node\": MOM_IDX, \"value_const\": MOM_Q95},\n",
    "]\n",
    "\n",
    "# --- run for each model and save ---\n",
    "models = {\n",
    "    \"per_edge\": model_per_edge.eval().cpu(),\n",
    "    \"shared\":   model_shared.eval().cpu(),\n",
    "    \"gcn\":      baseline_model.eval().cpu(),\n",
    "}\n",
    "\n",
    "stress = {name: stress_degradation(m, val_loader, ops) for name, m in models.items()}\n",
    "print(stress)\n",
    "\n",
    "os.makedirs(OUTPUTS_DIR, exist_ok=True)\n",
    "with open(os.path.join(OUTPUTS_DIR, \"stress_finance.json\"), \"w\") as f:\n",
    "    json.dump(stress, f, indent=2)\n",
    "\n"
   ]
  },
  {
   "cell_type": "code",
   "execution_count": 103,
   "id": "e0e4288a",
   "metadata": {},
   "outputs": [
    {
     "data": {
      "image/png": "[encoded data removed]",
      "text/plain": [
       "<Figure size 600x400 with 1 Axes>"
      ]
     },
     "metadata": {},
     "output_type": "display_data"
    },
    {
     "data": {
      "image/png": "[encoded data removed]",
      "text/plain": [
       "<Figure size 600x400 with 1 Axes>"
      ]
     },
     "metadata": {},
     "output_type": "display_data"
    },
    {
     "data": {
      "image/png": "[encoded data removed]",
      "text/plain": [
       "<Figure size 600x400 with 1 Axes>"
      ]
     },
     "metadata": {},
     "output_type": "display_data"
    },
    {
     "data": {
      "text/html": [
       "<div>\n",
       "<style scoped>\n",
       "    .dataframe tbody tr th:only-of-type {\n",
       "        vertical-align: middle;\n",
       "    }\n",
       "\n",
       "    .dataframe tbody tr th {\n",
       "        vertical-align: top;\n",
       "    }\n",
       "\n",
       "    .dataframe thead th {\n",
       "        text-align: right;\n",
       "    }\n",
       "</style>\n",
       "<table border=\"1\" class=\"dataframe\">\n",
       "  <thead>\n",
       "    <tr style=\"text-align: right;\">\n",
       "      <th></th>\n",
       "      <th>model</th>\n",
       "      <th>stress_name</th>\n",
       "      <th>mse_factual</th>\n",
       "      <th>mse_stress</th>\n",
       "      <th>degradation_ratio</th>\n",
       "    </tr>\n",
       "  </thead>\n",
       "  <tbody>\n",
       "    <tr>\n",
       "      <th>0</th>\n",
       "      <td>per_edge</td>\n",
       "      <td>do_BAS_plus_delta</td>\n",
       "      <td>0.045416</td>\n",
       "      <td>0.098799</td>\n",
       "      <td>2.175409</td>\n",
       "    </tr>\n",
       "    <tr>\n",
       "      <th>1</th>\n",
       "      <td>per_edge</td>\n",
       "      <td>do_MOM_q95</td>\n",
       "      <td>0.045416</td>\n",
       "      <td>0.042566</td>\n",
       "      <td>0.937238</td>\n",
       "    </tr>\n",
       "    <tr>\n",
       "      <th>2</th>\n",
       "      <td>shared</td>\n",
       "      <td>do_BAS_plus_delta</td>\n",
       "      <td>0.108955</td>\n",
       "      <td>0.135867</td>\n",
       "      <td>1.247011</td>\n",
       "    </tr>\n",
       "    <tr>\n",
       "      <th>3</th>\n",
       "      <td>shared</td>\n",
       "      <td>do_MOM_q95</td>\n",
       "      <td>0.108955</td>\n",
       "      <td>0.106230</td>\n",
       "      <td>0.974998</td>\n",
       "    </tr>\n",
       "    <tr>\n",
       "      <th>4</th>\n",
       "      <td>gcn</td>\n",
       "      <td>do_BAS_plus_delta</td>\n",
       "      <td>52.321731</td>\n",
       "      <td>52.434676</td>\n",
       "      <td>1.002159</td>\n",
       "    </tr>\n",
       "    <tr>\n",
       "      <th>5</th>\n",
       "      <td>gcn</td>\n",
       "      <td>do_MOM_q95</td>\n",
       "      <td>52.321731</td>\n",
       "      <td>51.769227</td>\n",
       "      <td>0.989440</td>\n",
       "    </tr>\n",
       "  </tbody>\n",
       "</table>\n",
       "</div>"
      ],
      "text/plain": [
       "      model        stress_name  mse_factual  mse_stress  degradation_ratio\n",
       "0  per_edge  do_BAS_plus_delta     0.045416    0.098799           2.175409\n",
       "1  per_edge         do_MOM_q95     0.045416    0.042566           0.937238\n",
       "2    shared  do_BAS_plus_delta     0.108955    0.135867           1.247011\n",
       "3    shared         do_MOM_q95     0.108955    0.106230           0.974998\n",
       "4       gcn  do_BAS_plus_delta    52.321731   52.434676           1.002159\n",
       "5       gcn         do_MOM_q95    52.321731   51.769227           0.989440"
      ]
     },
     "execution_count": 103,
     "metadata": {},
     "output_type": "execute_result"
    }
   ],
   "source": [
    "import pandas as pd\n",
    "import matplotlib.pyplot as plt\n",
    "\n",
    "rows = []\n",
    "for model_name, lst in stress.items():\n",
    "    for d in lst:\n",
    "        r = d.copy()\n",
    "        r[\"model\"] = model_name\n",
    "        rows.append(r)\n",
    "df = pd.DataFrame(rows)[[\"model\",\"stress_name\",\"mse_factual\",\"mse_stress\",\"degradation_ratio\"]]\n",
    "\n",
    "# --- Plot 1: degradation ratio under do(BAS = BAS + Δ) ---\n",
    "plt.figure(figsize=(6,4))\n",
    "subset = df[df[\"stress_name\"]==\"do_BAS_plus_delta\"]\n",
    "plt.bar(subset[\"model\"], subset[\"degradation_ratio\"])\n",
    "plt.title(\"Stress: do(BAS = BAS + Δ) — Degradation Ratio\")\n",
    "plt.xlabel(\"Model\")\n",
    "plt.ylabel(\"MSE_stress / MSE_factual\")\n",
    "plt.tight_layout()\n",
    "plt.savefig(os.path.join(OUTPUTS_DIR, \"stress_degradation_do_BAS.png\"), dpi=150)\n",
    "plt.show()\n",
    "\n",
    "# --- Plot 2: degradation ratio under do(MOM = q95) ---\n",
    "plt.figure(figsize=(6,4))\n",
    "subset2 = df[df[\"stress_name\"]==\"do_MOM_q95\"]\n",
    "plt.bar(subset2[\"model\"], subset2[\"degradation_ratio\"])\n",
    "plt.title(\"Stress: do(MOM = q95) — Degradation Ratio\")\n",
    "plt.xlabel(\"Model\")\n",
    "plt.ylabel(\"MSE_stress / MSE_factual\")\n",
    "plt.tight_layout()\n",
    "plt.savefig(os.path.join(OUTPUTS_DIR, \"stress_degradation_do_MOM.png\"), dpi=150)\n",
    "plt.show()\n",
    "\n",
    "# --- Plot 3: factual MSE (mean across rows for each model) ---\n",
    "plt.figure(figsize=(6,4))\n",
    "mse_factual = df.groupby(\"model\")[\"mse_factual\"].mean().reset_index()\n",
    "plt.bar(mse_factual[\"model\"], mse_factual[\"mse_factual\"])\n",
    "plt.title(\"Factual MSE (Val split)\")\n",
    "plt.xlabel(\"Model\")\n",
    "plt.ylabel(\"MSE (factual)\")\n",
    "plt.tight_layout()\n",
    "plt.savefig(os.path.join(OUTPUTS_DIR, \"factual_mse.png\"), dpi=150)\n",
    "plt.show()\n",
    "\n",
    "df\n"
   ]
  },
  {
   "cell_type": "markdown",
   "id": "9f9a92b2",
   "metadata": {},
   "source": [
    "Predictive scale matters. Factual MSE differs by orders of magnitude: per_edge ≈ 0.041, shared ≈ 0.688, GCN ≈ 36. Degradation ratios must be read in the context of this baseline accuracy.\n",
    "\n",
    "BAS shock behaves causally in the edge-wise model. Under do(BAS = BAS + Δ), per_edge inflates error by ~1.82×, consistent with an active BAS→VOL pathway. Shared (+4.6%) and GCN (~–1.6%) barely move, indicating weak causal sensitivity.\n",
    "\n",
    "MOM shock is milder, as expected. Under do(MOM = q95), per_edge degrades ~1.13×, while shared (~0.99×) and GCN (~1.00×) remain essentially unchanged. The smaller effect is consistent with MOM’s more indirect route to VOL (via OI→PC→BAS).\n",
    "\n",
    "Bottom line. The edge-wise SCM GNN is both accurate in the factual regime and responsive to graph-surgery interventions in direction and magnitude aligned with the hypothesized DAG; correlational baselines are largely insensitive to the same interventions."
   ]
  }
 ],
 "metadata": {
  "kernelspec": {
   "display_name": "ai_project",
   "language": "python",
   "name": "python3"
  },
  "language_info": {
   "codemirror_mode": {
    "name": "ipython",
    "version": 3
   },
   "file_extension": ".py",
   "mimetype": "text/x-python",
   "name": "python",
   "nbconvert_exporter": "python",
   "pygments_lexer": "ipython3",
   "version": "3.12.10"
  }
 },
 "nbformat": 4,
 "nbformat_minor": 5
}
